{
  "nbformat": 4,
  "nbformat_minor": 0,
  "metadata": {
    "colab": {
      "provenance": [],
      "gpuType": "T4"
    },
    "kernelspec": {
      "name": "python3",
      "display_name": "Python 3"
    },
    "language_info": {
      "name": "python"
    },
    "accelerator": "GPU"
  },
  "cells": [
    {
      "cell_type": "code",
      "execution_count": null,
      "metadata": {
        "colab": {
          "base_uri": "https://localhost:8080/"
        },
        "id": "2uQVC9qh0Uml",
        "outputId": "abc4e765-fdb3-49b6-97e8-43424eac0ba6"
      },
      "outputs": [
        {
          "output_type": "stream",
          "name": "stdout",
          "text": [
            "Collecting keras-ocr\n",
            "  Downloading keras_ocr-0.9.3-py3-none-any.whl (42 kB)\n",
            "\u001b[?25l     \u001b[90m━━━━━━━━━━━━━━━━━━━━━━━━━━━━━━━━━━━━━━━━\u001b[0m \u001b[32m0.0/42.3 kB\u001b[0m \u001b[31m?\u001b[0m eta \u001b[36m-:--:--\u001b[0m\r\u001b[2K     \u001b[91m━━━━━━━━━━━━━━━━━━━━━━━━━━━━━\u001b[0m\u001b[90m╺\u001b[0m\u001b[90m━━━━━━━━━━\u001b[0m \u001b[32m30.7/42.3 kB\u001b[0m \u001b[31m2.0 MB/s\u001b[0m eta \u001b[36m0:00:01\u001b[0m\r\u001b[2K     \u001b[90m━━━━━━━━━━━━━━━━━━━━━━━━━━━━━━━━━━━━━━━━\u001b[0m \u001b[32m42.3/42.3 kB\u001b[0m \u001b[31m618.9 kB/s\u001b[0m eta \u001b[36m0:00:00\u001b[0m\n",
            "\u001b[?25hRequirement already satisfied: editdistance in /usr/local/lib/python3.10/dist-packages (from keras-ocr) (0.6.2)\n",
            "Collecting efficientnet==1.0.0 (from keras-ocr)\n",
            "  Downloading efficientnet-1.0.0-py3-none-any.whl (17 kB)\n",
            "Collecting essential_generators (from keras-ocr)\n",
            "  Downloading essential_generators-1.0-py3-none-any.whl (9.5 MB)\n",
            "\u001b[2K     \u001b[90m━━━━━━━━━━━━━━━━━━━━━━━━━━━━━━━━━━━━━━━━\u001b[0m \u001b[32m9.5/9.5 MB\u001b[0m \u001b[31m56.9 MB/s\u001b[0m eta \u001b[36m0:00:00\u001b[0m\n",
            "\u001b[?25hRequirement already satisfied: fonttools in /usr/local/lib/python3.10/dist-packages (from keras-ocr) (4.46.0)\n",
            "Requirement already satisfied: imgaug in /usr/local/lib/python3.10/dist-packages (from keras-ocr) (0.4.0)\n",
            "Collecting pyclipper (from keras-ocr)\n",
            "  Downloading pyclipper-1.3.0.post5-cp310-cp310-manylinux_2_12_x86_64.manylinux2010_x86_64.whl (908 kB)\n",
            "\u001b[2K     \u001b[90m━━━━━━━━━━━━━━━━━━━━━━━━━━━━━━━━━━━━━━━━\u001b[0m \u001b[32m908.3/908.3 kB\u001b[0m \u001b[31m48.9 MB/s\u001b[0m eta \u001b[36m0:00:00\u001b[0m\n",
            "\u001b[?25hRequirement already satisfied: shapely in /usr/local/lib/python3.10/dist-packages (from keras-ocr) (2.0.2)\n",
            "Requirement already satisfied: tqdm in /usr/local/lib/python3.10/dist-packages (from keras-ocr) (4.66.1)\n",
            "Collecting validators (from keras-ocr)\n",
            "  Downloading validators-0.22.0-py3-none-any.whl (26 kB)\n",
            "Collecting keras-applications<=1.0.8,>=1.0.7 (from efficientnet==1.0.0->keras-ocr)\n",
            "  Downloading Keras_Applications-1.0.8-py3-none-any.whl (50 kB)\n",
            "\u001b[2K     \u001b[90m━━━━━━━━━━━━━━━━━━━━━━━━━━━━━━━━━━━━━━━━\u001b[0m \u001b[32m50.7/50.7 kB\u001b[0m \u001b[31m5.7 MB/s\u001b[0m eta \u001b[36m0:00:00\u001b[0m\n",
            "\u001b[?25hRequirement already satisfied: scikit-image in /usr/local/lib/python3.10/dist-packages (from efficientnet==1.0.0->keras-ocr) (0.19.3)\n",
            "Requirement already satisfied: six in /usr/local/lib/python3.10/dist-packages (from imgaug->keras-ocr) (1.16.0)\n",
            "Requirement already satisfied: numpy>=1.15 in /usr/local/lib/python3.10/dist-packages (from imgaug->keras-ocr) (1.23.5)\n",
            "Requirement already satisfied: scipy in /usr/local/lib/python3.10/dist-packages (from imgaug->keras-ocr) (1.11.4)\n",
            "Requirement already satisfied: Pillow in /usr/local/lib/python3.10/dist-packages (from imgaug->keras-ocr) (9.4.0)\n",
            "Requirement already satisfied: matplotlib in /usr/local/lib/python3.10/dist-packages (from imgaug->keras-ocr) (3.7.1)\n",
            "Requirement already satisfied: opencv-python in /usr/local/lib/python3.10/dist-packages (from imgaug->keras-ocr) (4.8.0.76)\n",
            "Requirement already satisfied: imageio in /usr/local/lib/python3.10/dist-packages (from imgaug->keras-ocr) (2.31.6)\n",
            "Requirement already satisfied: h5py in /usr/local/lib/python3.10/dist-packages (from keras-applications<=1.0.8,>=1.0.7->efficientnet==1.0.0->keras-ocr) (3.9.0)\n",
            "Requirement already satisfied: networkx>=2.2 in /usr/local/lib/python3.10/dist-packages (from scikit-image->efficientnet==1.0.0->keras-ocr) (3.2.1)\n",
            "Requirement already satisfied: tifffile>=2019.7.26 in /usr/local/lib/python3.10/dist-packages (from scikit-image->efficientnet==1.0.0->keras-ocr) (2023.12.9)\n",
            "Requirement already satisfied: PyWavelets>=1.1.1 in /usr/local/lib/python3.10/dist-packages (from scikit-image->efficientnet==1.0.0->keras-ocr) (1.5.0)\n",
            "Requirement already satisfied: packaging>=20.0 in /usr/local/lib/python3.10/dist-packages (from scikit-image->efficientnet==1.0.0->keras-ocr) (23.2)\n",
            "Requirement already satisfied: contourpy>=1.0.1 in /usr/local/lib/python3.10/dist-packages (from matplotlib->imgaug->keras-ocr) (1.2.0)\n",
            "Requirement already satisfied: cycler>=0.10 in /usr/local/lib/python3.10/dist-packages (from matplotlib->imgaug->keras-ocr) (0.12.1)\n",
            "Requirement already satisfied: kiwisolver>=1.0.1 in /usr/local/lib/python3.10/dist-packages (from matplotlib->imgaug->keras-ocr) (1.4.5)\n",
            "Requirement already satisfied: pyparsing>=2.3.1 in /usr/local/lib/python3.10/dist-packages (from matplotlib->imgaug->keras-ocr) (3.1.1)\n",
            "Requirement already satisfied: python-dateutil>=2.7 in /usr/local/lib/python3.10/dist-packages (from matplotlib->imgaug->keras-ocr) (2.8.2)\n",
            "Installing collected packages: pyclipper, essential_generators, validators, keras-applications, efficientnet, keras-ocr\n",
            "Successfully installed efficientnet-1.0.0 essential_generators-1.0 keras-applications-1.0.8 keras-ocr-0.9.3 pyclipper-1.3.0.post5 validators-0.22.0\n",
            "Requirement already satisfied: keras in /usr/local/lib/python3.10/dist-packages (2.15.0)\n"
          ]
        }
      ],
      "source": [
        "!pip install keras-ocr\n",
        "!pip install keras"
      ]
    },
    {
      "cell_type": "code",
      "source": [
        "import numpy as np\n",
        "import pandas as pd\n",
        "import cv2\n",
        "import tensorflow as tf\n",
        "import keras_ocr\n",
        "\n",
        "import os\n",
        "from glob import glob\n",
        "from tqdm import tqdm\n",
        "\n",
        "import warnings\n",
        "warnings.filterwarnings('ignore')"
      ],
      "metadata": {
        "id": "jecca56s3Vg-"
      },
      "execution_count": null,
      "outputs": []
    },
    {
      "cell_type": "code",
      "source": [
        "from google.colab import drive\n",
        "\n",
        "# Mount Google Drive\n",
        "drive.mount('/content/drive')"
      ],
      "metadata": {
        "colab": {
          "base_uri": "https://localhost:8080/"
        },
        "id": "4_VkC36U3gHl",
        "outputId": "a0decfe3-99e1-4d3d-daec-7a37c6e1e3c1"
      },
      "execution_count": null,
      "outputs": [
        {
          "output_type": "stream",
          "name": "stdout",
          "text": [
            "Mounted at /content/drive\n"
          ]
        }
      ]
    },
    {
      "cell_type": "code",
      "source": [
        "dataset_path = '/content/drive/MyDrive/MedEase/Dataset/Labeling/v4'"
      ],
      "metadata": {
        "id": "a_LYA5XB3hSX"
      },
      "execution_count": null,
      "outputs": []
    },
    {
      "cell_type": "code",
      "source": [
        "!ls '/content/drive/MyDrive/MedEase/Dataset/Labeling/v4/images'"
      ],
      "metadata": {
        "colab": {
          "base_uri": "https://localhost:8080/"
        },
        "id": "VIvc0uIu53tQ",
        "outputId": "f9a97035-1220-4b64-c1f8-99a45bbc4d94"
      },
      "execution_count": null,
      "outputs": [
        {
          "output_type": "stream",
          "name": "stdout",
          "text": [
            "image100.jpg  image136.jpg  image171.jpg  image206.jpg\timage241.jpg  image34.jpg  image6.jpg\n",
            "image101.jpg  image137.jpg  image172.jpg  image207.jpg\timage242.jpg  image35.jpg  image70.jpg\n",
            "image102.jpg  image138.jpg  image173.jpg  image208.jpg\timage243.jpg  image36.jpg  image71.jpg\n",
            "image103.jpg  image139.jpg  image174.jpg  image209.jpg\timage244.jpg  image37.jpg  image72.jpg\n",
            "image104.jpg  image13.jpg   image175.jpg  image20.jpg\timage245.jpg  image38.jpg  image73.jpg\n",
            "image105.jpg  image140.jpg  image176.jpg  image210.jpg\timage246.jpg  image39.jpg  image74.jpg\n",
            "image106.jpg  image141.jpg  image177.jpg  image211.jpg\timage247.jpg  image3.jpg   image75.jpg\n",
            "image107.jpg  image142.jpg  image178.jpg  image212.jpg\timage248.jpg  image40.jpg  image76.jpg\n",
            "image108.jpg  image143.jpg  image179.jpg  image213.jpg\timage249.jpg  image41.jpg  image77.jpg\n",
            "image109.jpg  image144.jpg  image17.jpg   image214.jpg\timage24.jpg   image42.jpg  image78.jpg\n",
            "image10.jpg   image145.jpg  image180.jpg  image215.jpg\timage250.jpg  image43.jpg  image79.jpg\n",
            "image110.jpg  image146.jpg  image181.jpg  image216.jpg\timage251.jpg  image44.jpg  image7.jpg\n",
            "image111.jpg  image147.jpg  image182.jpg  image217.jpg\timage252.jpg  image45.jpg  image80.jpg\n",
            "image112.jpg  image148.jpg  image183.jpg  image218.jpg\timage253.jpg  image46.jpg  image81.jpg\n",
            "image113.jpg  image149.jpg  image184.jpg  image219.jpg\timage254.jpg  image47.jpg  image82.jpg\n",
            "image114.jpg  image14.jpg   image185.jpg  image21.jpg\timage255.jpg  image48.jpg  image83.jpg\n",
            "image115.jpg  image150.jpg  image186.jpg  image220.jpg\timage256.jpg  image49.jpg  image84.jpg\n",
            "image116.jpg  image151.jpg  image187.jpg  image221.jpg\timage257.jpg  image4.jpg   image85.jpg\n",
            "image117.jpg  image152.jpg  image188.jpg  image222.jpg\timage258.jpg  image50.jpg  image86.jpg\n",
            "image118.jpg  image153.jpg  image189.jpg  image223.jpg\timage259.jpg  image51.jpg  image87.jpg\n",
            "image119.jpg  image154.jpg  image18.jpg   image224.jpg\timage25.jpg   image52.jpg  image88.jpg\n",
            "image11.jpg   image155.jpg  image190.jpg  image225.jpg\timage260.jpg  image53.jpg  image89.jpg\n",
            "image120.jpg  image156.jpg  image191.jpg  image226.jpg\timage261.jpg  image54.jpg  image8.jpg\n",
            "image121.jpg  image157.jpg  image192.jpg  image227.jpg\timage262.jpg  image55.jpg  image90.jpg\n",
            "image122.jpg  image158.jpg  image193.jpg  image228.jpg\timage263.jpg  image56.jpg  image91.jpg\n",
            "image123.jpg  image159.jpg  image194.jpg  image229.jpg\timage264.jpg  image57.jpg  image92.jpg\n",
            "image124.jpg  image15.jpg   image195.jpg  image22.jpg\timage265.jpg  image58.jpg  image93.jpg\n",
            "image125.jpg  image160.jpg  image196.jpg  image230.jpg\timage266.jpg  image59.jpg  image94.jpg\n",
            "image126.jpg  image161.jpg  image197.jpg  image231.jpg\timage267.jpg  image5.jpg   image95.jpg\n",
            "image127.jpg  image162.jpg  image198.jpg  image232.jpg\timage268.jpg  image60.jpg  image96.jpg\n",
            "image128.jpg  image163.jpg  image199.jpg  image233.jpg\timage26.jpg   image61.jpg  image97.jpg\n",
            "image129.jpg  image164.jpg  image19.jpg   image234.jpg\timage27.jpg   image62.jpg  image98.jpg\n",
            "image12.jpg   image165.jpg  image1.jpg\t  image235.jpg\timage28.jpg   image63.jpg  image99.jpg\n",
            "image130.jpg  image166.jpg  image200.jpg  image236.jpg\timage29.jpg   image64.jpg  image9.jpg\n",
            "image131.jpg  image167.jpg  image201.jpg  image237.jpg\timage2.jpg    image65.jpg\n",
            "image132.jpg  image168.jpg  image202.jpg  image238.jpg\timage30.jpg   image66.jpg\n",
            "image133.jpg  image169.jpg  image203.jpg  image239.jpg\timage31.jpg   image67.jpg\n",
            "image134.jpg  image16.jpg   image204.jpg  image23.jpg\timage32.jpg   image68.jpg\n",
            "image135.jpg  image170.jpg  image205.jpg  image240.jpg\timage33.jpg   image69.jpg\n"
          ]
        }
      ]
    },
    {
      "cell_type": "code",
      "source": [
        "imgPaths = glob(dataset_path + '/images/*.jpg')\n",
        "print(imgPaths)"
      ],
      "metadata": {
        "colab": {
          "base_uri": "https://localhost:8080/"
        },
        "id": "VDIbt1WB3mBU",
        "outputId": "cc94f799-33ab-4d26-86ea-02ae7115eaf9"
      },
      "execution_count": null,
      "outputs": [
        {
          "output_type": "stream",
          "name": "stdout",
          "text": [
            "['/content/drive/MyDrive/MedEase/Dataset/Labeling/v4/images/image48.jpg', '/content/drive/MyDrive/MedEase/Dataset/Labeling/v4/images/image96.jpg', '/content/drive/MyDrive/MedEase/Dataset/Labeling/v4/images/image97.jpg', '/content/drive/MyDrive/MedEase/Dataset/Labeling/v4/images/image53.jpg', '/content/drive/MyDrive/MedEase/Dataset/Labeling/v4/images/image91.jpg', '/content/drive/MyDrive/MedEase/Dataset/Labeling/v4/images/image122.jpg', '/content/drive/MyDrive/MedEase/Dataset/Labeling/v4/images/image80.jpg', '/content/drive/MyDrive/MedEase/Dataset/Labeling/v4/images/image126.jpg', '/content/drive/MyDrive/MedEase/Dataset/Labeling/v4/images/image61.jpg', '/content/drive/MyDrive/MedEase/Dataset/Labeling/v4/images/image70.jpg', '/content/drive/MyDrive/MedEase/Dataset/Labeling/v4/images/image116.jpg', '/content/drive/MyDrive/MedEase/Dataset/Labeling/v4/images/image12.jpg', '/content/drive/MyDrive/MedEase/Dataset/Labeling/v4/images/image29.jpg', '/content/drive/MyDrive/MedEase/Dataset/Labeling/v4/images/image30.jpg', '/content/drive/MyDrive/MedEase/Dataset/Labeling/v4/images/image135.jpg', '/content/drive/MyDrive/MedEase/Dataset/Labeling/v4/images/image26.jpg', '/content/drive/MyDrive/MedEase/Dataset/Labeling/v4/images/image88.jpg', '/content/drive/MyDrive/MedEase/Dataset/Labeling/v4/images/image57.jpg', '/content/drive/MyDrive/MedEase/Dataset/Labeling/v4/images/image38.jpg', '/content/drive/MyDrive/MedEase/Dataset/Labeling/v4/images/image77.jpg', '/content/drive/MyDrive/MedEase/Dataset/Labeling/v4/images/image47.jpg', '/content/drive/MyDrive/MedEase/Dataset/Labeling/v4/images/image17.jpg', '/content/drive/MyDrive/MedEase/Dataset/Labeling/v4/images/image111.jpg', '/content/drive/MyDrive/MedEase/Dataset/Labeling/v4/images/image33.jpg', '/content/drive/MyDrive/MedEase/Dataset/Labeling/v4/images/image10.jpg', '/content/drive/MyDrive/MedEase/Dataset/Labeling/v4/images/image114.jpg', '/content/drive/MyDrive/MedEase/Dataset/Labeling/v4/images/image22.jpg', '/content/drive/MyDrive/MedEase/Dataset/Labeling/v4/images/image112.jpg', '/content/drive/MyDrive/MedEase/Dataset/Labeling/v4/images/image134.jpg', '/content/drive/MyDrive/MedEase/Dataset/Labeling/v4/images/image36.jpg', '/content/drive/MyDrive/MedEase/Dataset/Labeling/v4/images/image101.jpg', '/content/drive/MyDrive/MedEase/Dataset/Labeling/v4/images/image5.jpg', '/content/drive/MyDrive/MedEase/Dataset/Labeling/v4/images/image86.jpg', '/content/drive/MyDrive/MedEase/Dataset/Labeling/v4/images/image128.jpg', '/content/drive/MyDrive/MedEase/Dataset/Labeling/v4/images/image75.jpg', '/content/drive/MyDrive/MedEase/Dataset/Labeling/v4/images/image93.jpg', '/content/drive/MyDrive/MedEase/Dataset/Labeling/v4/images/image100.jpg', '/content/drive/MyDrive/MedEase/Dataset/Labeling/v4/images/image95.jpg', '/content/drive/MyDrive/MedEase/Dataset/Labeling/v4/images/image118.jpg', '/content/drive/MyDrive/MedEase/Dataset/Labeling/v4/images/image102.jpg', '/content/drive/MyDrive/MedEase/Dataset/Labeling/v4/images/image23.jpg', '/content/drive/MyDrive/MedEase/Dataset/Labeling/v4/images/image52.jpg', '/content/drive/MyDrive/MedEase/Dataset/Labeling/v4/images/image89.jpg', '/content/drive/MyDrive/MedEase/Dataset/Labeling/v4/images/image79.jpg', '/content/drive/MyDrive/MedEase/Dataset/Labeling/v4/images/image18.jpg', '/content/drive/MyDrive/MedEase/Dataset/Labeling/v4/images/image55.jpg', '/content/drive/MyDrive/MedEase/Dataset/Labeling/v4/images/image45.jpg', '/content/drive/MyDrive/MedEase/Dataset/Labeling/v4/images/image132.jpg', '/content/drive/MyDrive/MedEase/Dataset/Labeling/v4/images/image90.jpg', '/content/drive/MyDrive/MedEase/Dataset/Labeling/v4/images/image56.jpg', '/content/drive/MyDrive/MedEase/Dataset/Labeling/v4/images/image31.jpg', '/content/drive/MyDrive/MedEase/Dataset/Labeling/v4/images/image107.jpg', '/content/drive/MyDrive/MedEase/Dataset/Labeling/v4/images/image27.jpg', '/content/drive/MyDrive/MedEase/Dataset/Labeling/v4/images/image32.jpg', '/content/drive/MyDrive/MedEase/Dataset/Labeling/v4/images/image94.jpg', '/content/drive/MyDrive/MedEase/Dataset/Labeling/v4/images/image58.jpg', '/content/drive/MyDrive/MedEase/Dataset/Labeling/v4/images/image1.jpg', '/content/drive/MyDrive/MedEase/Dataset/Labeling/v4/images/image66.jpg', '/content/drive/MyDrive/MedEase/Dataset/Labeling/v4/images/image3.jpg', '/content/drive/MyDrive/MedEase/Dataset/Labeling/v4/images/image68.jpg', '/content/drive/MyDrive/MedEase/Dataset/Labeling/v4/images/image125.jpg', '/content/drive/MyDrive/MedEase/Dataset/Labeling/v4/images/image40.jpg', '/content/drive/MyDrive/MedEase/Dataset/Labeling/v4/images/image2.jpg', '/content/drive/MyDrive/MedEase/Dataset/Labeling/v4/images/image103.jpg', '/content/drive/MyDrive/MedEase/Dataset/Labeling/v4/images/image6.jpg', '/content/drive/MyDrive/MedEase/Dataset/Labeling/v4/images/image21.jpg', '/content/drive/MyDrive/MedEase/Dataset/Labeling/v4/images/image37.jpg', '/content/drive/MyDrive/MedEase/Dataset/Labeling/v4/images/image13.jpg', '/content/drive/MyDrive/MedEase/Dataset/Labeling/v4/images/image82.jpg', '/content/drive/MyDrive/MedEase/Dataset/Labeling/v4/images/image7.jpg', '/content/drive/MyDrive/MedEase/Dataset/Labeling/v4/images/image50.jpg', '/content/drive/MyDrive/MedEase/Dataset/Labeling/v4/images/image35.jpg', '/content/drive/MyDrive/MedEase/Dataset/Labeling/v4/images/image121.jpg', '/content/drive/MyDrive/MedEase/Dataset/Labeling/v4/images/image41.jpg', '/content/drive/MyDrive/MedEase/Dataset/Labeling/v4/images/image87.jpg', '/content/drive/MyDrive/MedEase/Dataset/Labeling/v4/images/image105.jpg', '/content/drive/MyDrive/MedEase/Dataset/Labeling/v4/images/image84.jpg', '/content/drive/MyDrive/MedEase/Dataset/Labeling/v4/images/image63.jpg', '/content/drive/MyDrive/MedEase/Dataset/Labeling/v4/images/image106.jpg', '/content/drive/MyDrive/MedEase/Dataset/Labeling/v4/images/image51.jpg', '/content/drive/MyDrive/MedEase/Dataset/Labeling/v4/images/image71.jpg', '/content/drive/MyDrive/MedEase/Dataset/Labeling/v4/images/image44.jpg', '/content/drive/MyDrive/MedEase/Dataset/Labeling/v4/images/image42.jpg', '/content/drive/MyDrive/MedEase/Dataset/Labeling/v4/images/image74.jpg', '/content/drive/MyDrive/MedEase/Dataset/Labeling/v4/images/image64.jpg', '/content/drive/MyDrive/MedEase/Dataset/Labeling/v4/images/image43.jpg', '/content/drive/MyDrive/MedEase/Dataset/Labeling/v4/images/image62.jpg', '/content/drive/MyDrive/MedEase/Dataset/Labeling/v4/images/image83.jpg', '/content/drive/MyDrive/MedEase/Dataset/Labeling/v4/images/image104.jpg', '/content/drive/MyDrive/MedEase/Dataset/Labeling/v4/images/image76.jpg', '/content/drive/MyDrive/MedEase/Dataset/Labeling/v4/images/image123.jpg', '/content/drive/MyDrive/MedEase/Dataset/Labeling/v4/images/image72.jpg', '/content/drive/MyDrive/MedEase/Dataset/Labeling/v4/images/image108.jpg', '/content/drive/MyDrive/MedEase/Dataset/Labeling/v4/images/image130.jpg', '/content/drive/MyDrive/MedEase/Dataset/Labeling/v4/images/image113.jpg', '/content/drive/MyDrive/MedEase/Dataset/Labeling/v4/images/image20.jpg', '/content/drive/MyDrive/MedEase/Dataset/Labeling/v4/images/image49.jpg', '/content/drive/MyDrive/MedEase/Dataset/Labeling/v4/images/image28.jpg', '/content/drive/MyDrive/MedEase/Dataset/Labeling/v4/images/image81.jpg', '/content/drive/MyDrive/MedEase/Dataset/Labeling/v4/images/image73.jpg', '/content/drive/MyDrive/MedEase/Dataset/Labeling/v4/images/image85.jpg', '/content/drive/MyDrive/MedEase/Dataset/Labeling/v4/images/image24.jpg', '/content/drive/MyDrive/MedEase/Dataset/Labeling/v4/images/image115.jpg', '/content/drive/MyDrive/MedEase/Dataset/Labeling/v4/images/image69.jpg', '/content/drive/MyDrive/MedEase/Dataset/Labeling/v4/images/image92.jpg', '/content/drive/MyDrive/MedEase/Dataset/Labeling/v4/images/image46.jpg', '/content/drive/MyDrive/MedEase/Dataset/Labeling/v4/images/image8.jpg', '/content/drive/MyDrive/MedEase/Dataset/Labeling/v4/images/image11.jpg', '/content/drive/MyDrive/MedEase/Dataset/Labeling/v4/images/image19.jpg', '/content/drive/MyDrive/MedEase/Dataset/Labeling/v4/images/image9.jpg', '/content/drive/MyDrive/MedEase/Dataset/Labeling/v4/images/image78.jpg', '/content/drive/MyDrive/MedEase/Dataset/Labeling/v4/images/image59.jpg', '/content/drive/MyDrive/MedEase/Dataset/Labeling/v4/images/image4.jpg', '/content/drive/MyDrive/MedEase/Dataset/Labeling/v4/images/image65.jpg', '/content/drive/MyDrive/MedEase/Dataset/Labeling/v4/images/image99.jpg', '/content/drive/MyDrive/MedEase/Dataset/Labeling/v4/images/image16.jpg', '/content/drive/MyDrive/MedEase/Dataset/Labeling/v4/images/image54.jpg', '/content/drive/MyDrive/MedEase/Dataset/Labeling/v4/images/image98.jpg', '/content/drive/MyDrive/MedEase/Dataset/Labeling/v4/images/image39.jpg', '/content/drive/MyDrive/MedEase/Dataset/Labeling/v4/images/image120.jpg', '/content/drive/MyDrive/MedEase/Dataset/Labeling/v4/images/image14.jpg', '/content/drive/MyDrive/MedEase/Dataset/Labeling/v4/images/image124.jpg', '/content/drive/MyDrive/MedEase/Dataset/Labeling/v4/images/image60.jpg', '/content/drive/MyDrive/MedEase/Dataset/Labeling/v4/images/image127.jpg', '/content/drive/MyDrive/MedEase/Dataset/Labeling/v4/images/image117.jpg', '/content/drive/MyDrive/MedEase/Dataset/Labeling/v4/images/image15.jpg', '/content/drive/MyDrive/MedEase/Dataset/Labeling/v4/images/image110.jpg', '/content/drive/MyDrive/MedEase/Dataset/Labeling/v4/images/image67.jpg', '/content/drive/MyDrive/MedEase/Dataset/Labeling/v4/images/image136.jpg', '/content/drive/MyDrive/MedEase/Dataset/Labeling/v4/images/image129.jpg', '/content/drive/MyDrive/MedEase/Dataset/Labeling/v4/images/image109.jpg', '/content/drive/MyDrive/MedEase/Dataset/Labeling/v4/images/image119.jpg', '/content/drive/MyDrive/MedEase/Dataset/Labeling/v4/images/image133.jpg', '/content/drive/MyDrive/MedEase/Dataset/Labeling/v4/images/image25.jpg', '/content/drive/MyDrive/MedEase/Dataset/Labeling/v4/images/image131.jpg', '/content/drive/MyDrive/MedEase/Dataset/Labeling/v4/images/image34.jpg', '/content/drive/MyDrive/MedEase/Dataset/Labeling/v4/images/image137.jpg', '/content/drive/MyDrive/MedEase/Dataset/Labeling/v4/images/image138.jpg', '/content/drive/MyDrive/MedEase/Dataset/Labeling/v4/images/image139.jpg', '/content/drive/MyDrive/MedEase/Dataset/Labeling/v4/images/image140.jpg', '/content/drive/MyDrive/MedEase/Dataset/Labeling/v4/images/image141.jpg', '/content/drive/MyDrive/MedEase/Dataset/Labeling/v4/images/image142.jpg', '/content/drive/MyDrive/MedEase/Dataset/Labeling/v4/images/image143.jpg', '/content/drive/MyDrive/MedEase/Dataset/Labeling/v4/images/image144.jpg', '/content/drive/MyDrive/MedEase/Dataset/Labeling/v4/images/image145.jpg', '/content/drive/MyDrive/MedEase/Dataset/Labeling/v4/images/image146.jpg', '/content/drive/MyDrive/MedEase/Dataset/Labeling/v4/images/image147.jpg', '/content/drive/MyDrive/MedEase/Dataset/Labeling/v4/images/image148.jpg', '/content/drive/MyDrive/MedEase/Dataset/Labeling/v4/images/image149.jpg', '/content/drive/MyDrive/MedEase/Dataset/Labeling/v4/images/image150.jpg', '/content/drive/MyDrive/MedEase/Dataset/Labeling/v4/images/image151.jpg', '/content/drive/MyDrive/MedEase/Dataset/Labeling/v4/images/image152.jpg', '/content/drive/MyDrive/MedEase/Dataset/Labeling/v4/images/image153.jpg', '/content/drive/MyDrive/MedEase/Dataset/Labeling/v4/images/image154.jpg', '/content/drive/MyDrive/MedEase/Dataset/Labeling/v4/images/image155.jpg', '/content/drive/MyDrive/MedEase/Dataset/Labeling/v4/images/image156.jpg', '/content/drive/MyDrive/MedEase/Dataset/Labeling/v4/images/image157.jpg', '/content/drive/MyDrive/MedEase/Dataset/Labeling/v4/images/image158.jpg', '/content/drive/MyDrive/MedEase/Dataset/Labeling/v4/images/image159.jpg', '/content/drive/MyDrive/MedEase/Dataset/Labeling/v4/images/image160.jpg', '/content/drive/MyDrive/MedEase/Dataset/Labeling/v4/images/image161.jpg', '/content/drive/MyDrive/MedEase/Dataset/Labeling/v4/images/image162.jpg', '/content/drive/MyDrive/MedEase/Dataset/Labeling/v4/images/image163.jpg', '/content/drive/MyDrive/MedEase/Dataset/Labeling/v4/images/image164.jpg', '/content/drive/MyDrive/MedEase/Dataset/Labeling/v4/images/image165.jpg', '/content/drive/MyDrive/MedEase/Dataset/Labeling/v4/images/image166.jpg', '/content/drive/MyDrive/MedEase/Dataset/Labeling/v4/images/image167.jpg', '/content/drive/MyDrive/MedEase/Dataset/Labeling/v4/images/image168.jpg', '/content/drive/MyDrive/MedEase/Dataset/Labeling/v4/images/image169.jpg', '/content/drive/MyDrive/MedEase/Dataset/Labeling/v4/images/image170.jpg', '/content/drive/MyDrive/MedEase/Dataset/Labeling/v4/images/image171.jpg', '/content/drive/MyDrive/MedEase/Dataset/Labeling/v4/images/image172.jpg', '/content/drive/MyDrive/MedEase/Dataset/Labeling/v4/images/image173.jpg', '/content/drive/MyDrive/MedEase/Dataset/Labeling/v4/images/image174.jpg', '/content/drive/MyDrive/MedEase/Dataset/Labeling/v4/images/image175.jpg', '/content/drive/MyDrive/MedEase/Dataset/Labeling/v4/images/image176.jpg', '/content/drive/MyDrive/MedEase/Dataset/Labeling/v4/images/image177.jpg', '/content/drive/MyDrive/MedEase/Dataset/Labeling/v4/images/image178.jpg', '/content/drive/MyDrive/MedEase/Dataset/Labeling/v4/images/image179.jpg', '/content/drive/MyDrive/MedEase/Dataset/Labeling/v4/images/image180.jpg', '/content/drive/MyDrive/MedEase/Dataset/Labeling/v4/images/image181.jpg', '/content/drive/MyDrive/MedEase/Dataset/Labeling/v4/images/image182.jpg', '/content/drive/MyDrive/MedEase/Dataset/Labeling/v4/images/image183.jpg', '/content/drive/MyDrive/MedEase/Dataset/Labeling/v4/images/image184.jpg', '/content/drive/MyDrive/MedEase/Dataset/Labeling/v4/images/image185.jpg', '/content/drive/MyDrive/MedEase/Dataset/Labeling/v4/images/image186.jpg', '/content/drive/MyDrive/MedEase/Dataset/Labeling/v4/images/image187.jpg', '/content/drive/MyDrive/MedEase/Dataset/Labeling/v4/images/image188.jpg', '/content/drive/MyDrive/MedEase/Dataset/Labeling/v4/images/image189.jpg', '/content/drive/MyDrive/MedEase/Dataset/Labeling/v4/images/image190.jpg', '/content/drive/MyDrive/MedEase/Dataset/Labeling/v4/images/image191.jpg', '/content/drive/MyDrive/MedEase/Dataset/Labeling/v4/images/image192.jpg', '/content/drive/MyDrive/MedEase/Dataset/Labeling/v4/images/image193.jpg', '/content/drive/MyDrive/MedEase/Dataset/Labeling/v4/images/image194.jpg', '/content/drive/MyDrive/MedEase/Dataset/Labeling/v4/images/image195.jpg', '/content/drive/MyDrive/MedEase/Dataset/Labeling/v4/images/image196.jpg', '/content/drive/MyDrive/MedEase/Dataset/Labeling/v4/images/image197.jpg', '/content/drive/MyDrive/MedEase/Dataset/Labeling/v4/images/image198.jpg', '/content/drive/MyDrive/MedEase/Dataset/Labeling/v4/images/image199.jpg', '/content/drive/MyDrive/MedEase/Dataset/Labeling/v4/images/image200.jpg', '/content/drive/MyDrive/MedEase/Dataset/Labeling/v4/images/image201.jpg', '/content/drive/MyDrive/MedEase/Dataset/Labeling/v4/images/image202.jpg', '/content/drive/MyDrive/MedEase/Dataset/Labeling/v4/images/image203.jpg', '/content/drive/MyDrive/MedEase/Dataset/Labeling/v4/images/image204.jpg', '/content/drive/MyDrive/MedEase/Dataset/Labeling/v4/images/image205.jpg', '/content/drive/MyDrive/MedEase/Dataset/Labeling/v4/images/image206.jpg', '/content/drive/MyDrive/MedEase/Dataset/Labeling/v4/images/image207.jpg', '/content/drive/MyDrive/MedEase/Dataset/Labeling/v4/images/image208.jpg', '/content/drive/MyDrive/MedEase/Dataset/Labeling/v4/images/image209.jpg', '/content/drive/MyDrive/MedEase/Dataset/Labeling/v4/images/image210.jpg', '/content/drive/MyDrive/MedEase/Dataset/Labeling/v4/images/image211.jpg', '/content/drive/MyDrive/MedEase/Dataset/Labeling/v4/images/image212.jpg', '/content/drive/MyDrive/MedEase/Dataset/Labeling/v4/images/image213.jpg', '/content/drive/MyDrive/MedEase/Dataset/Labeling/v4/images/image214.jpg', '/content/drive/MyDrive/MedEase/Dataset/Labeling/v4/images/image215.jpg', '/content/drive/MyDrive/MedEase/Dataset/Labeling/v4/images/image216.jpg', '/content/drive/MyDrive/MedEase/Dataset/Labeling/v4/images/image217.jpg', '/content/drive/MyDrive/MedEase/Dataset/Labeling/v4/images/image218.jpg', '/content/drive/MyDrive/MedEase/Dataset/Labeling/v4/images/image219.jpg', '/content/drive/MyDrive/MedEase/Dataset/Labeling/v4/images/image220.jpg', '/content/drive/MyDrive/MedEase/Dataset/Labeling/v4/images/image221.jpg', '/content/drive/MyDrive/MedEase/Dataset/Labeling/v4/images/image222.jpg', '/content/drive/MyDrive/MedEase/Dataset/Labeling/v4/images/image223.jpg', '/content/drive/MyDrive/MedEase/Dataset/Labeling/v4/images/image224.jpg', '/content/drive/MyDrive/MedEase/Dataset/Labeling/v4/images/image225.jpg', '/content/drive/MyDrive/MedEase/Dataset/Labeling/v4/images/image226.jpg', '/content/drive/MyDrive/MedEase/Dataset/Labeling/v4/images/image227.jpg', '/content/drive/MyDrive/MedEase/Dataset/Labeling/v4/images/image228.jpg', '/content/drive/MyDrive/MedEase/Dataset/Labeling/v4/images/image229.jpg', '/content/drive/MyDrive/MedEase/Dataset/Labeling/v4/images/image230.jpg', '/content/drive/MyDrive/MedEase/Dataset/Labeling/v4/images/image231.jpg', '/content/drive/MyDrive/MedEase/Dataset/Labeling/v4/images/image232.jpg', '/content/drive/MyDrive/MedEase/Dataset/Labeling/v4/images/image233.jpg', '/content/drive/MyDrive/MedEase/Dataset/Labeling/v4/images/image234.jpg', '/content/drive/MyDrive/MedEase/Dataset/Labeling/v4/images/image235.jpg', '/content/drive/MyDrive/MedEase/Dataset/Labeling/v4/images/image236.jpg', '/content/drive/MyDrive/MedEase/Dataset/Labeling/v4/images/image237.jpg', '/content/drive/MyDrive/MedEase/Dataset/Labeling/v4/images/image238.jpg', '/content/drive/MyDrive/MedEase/Dataset/Labeling/v4/images/image239.jpg', '/content/drive/MyDrive/MedEase/Dataset/Labeling/v4/images/image240.jpg', '/content/drive/MyDrive/MedEase/Dataset/Labeling/v4/images/image241.jpg', '/content/drive/MyDrive/MedEase/Dataset/Labeling/v4/images/image242.jpg', '/content/drive/MyDrive/MedEase/Dataset/Labeling/v4/images/image243.jpg', '/content/drive/MyDrive/MedEase/Dataset/Labeling/v4/images/image244.jpg', '/content/drive/MyDrive/MedEase/Dataset/Labeling/v4/images/image245.jpg', '/content/drive/MyDrive/MedEase/Dataset/Labeling/v4/images/image246.jpg', '/content/drive/MyDrive/MedEase/Dataset/Labeling/v4/images/image247.jpg', '/content/drive/MyDrive/MedEase/Dataset/Labeling/v4/images/image248.jpg', '/content/drive/MyDrive/MedEase/Dataset/Labeling/v4/images/image249.jpg', '/content/drive/MyDrive/MedEase/Dataset/Labeling/v4/images/image250.jpg', '/content/drive/MyDrive/MedEase/Dataset/Labeling/v4/images/image251.jpg', '/content/drive/MyDrive/MedEase/Dataset/Labeling/v4/images/image253.jpg', '/content/drive/MyDrive/MedEase/Dataset/Labeling/v4/images/image254.jpg', '/content/drive/MyDrive/MedEase/Dataset/Labeling/v4/images/image255.jpg', '/content/drive/MyDrive/MedEase/Dataset/Labeling/v4/images/image256.jpg', '/content/drive/MyDrive/MedEase/Dataset/Labeling/v4/images/image252.jpg', '/content/drive/MyDrive/MedEase/Dataset/Labeling/v4/images/image257.jpg', '/content/drive/MyDrive/MedEase/Dataset/Labeling/v4/images/image258.jpg', '/content/drive/MyDrive/MedEase/Dataset/Labeling/v4/images/image259.jpg', '/content/drive/MyDrive/MedEase/Dataset/Labeling/v4/images/image260.jpg', '/content/drive/MyDrive/MedEase/Dataset/Labeling/v4/images/image261.jpg', '/content/drive/MyDrive/MedEase/Dataset/Labeling/v4/images/image262.jpg', '/content/drive/MyDrive/MedEase/Dataset/Labeling/v4/images/image263.jpg', '/content/drive/MyDrive/MedEase/Dataset/Labeling/v4/images/image264.jpg', '/content/drive/MyDrive/MedEase/Dataset/Labeling/v4/images/image265.jpg', '/content/drive/MyDrive/MedEase/Dataset/Labeling/v4/images/image266.jpg', '/content/drive/MyDrive/MedEase/Dataset/Labeling/v4/images/image267.jpg', '/content/drive/MyDrive/MedEase/Dataset/Labeling/v4/images/image268.jpg']\n"
          ]
        }
      ]
    },
    {
      "cell_type": "code",
      "source": [
        "# Function to perform OCR on an image using keras-ocr\n",
        "def perform_ocr(image_path, pipeline):\n",
        "    images = [keras_ocr.tools.read(image_path)]\n",
        "    predictions = pipeline.recognize(images)\n",
        "    return predictions"
      ],
      "metadata": {
        "id": "NQqEzyBUGd7y"
      },
      "execution_count": null,
      "outputs": []
    },
    {
      "cell_type": "code",
      "source": [
        "pipeline = keras_ocr.pipeline.Pipeline()\n",
        "\n",
        "ocr_results = [] #list\n",
        "# subset_img_paths = imgPaths[:5]\n",
        "for imgPath in tqdm(imgPaths, desc='Medicine'):\n",
        "    _, filename = os.path.split(imgPath)\n",
        "\n",
        "    #inference ocr\n",
        "    data = perform_ocr(imgPath, pipeline)\n",
        "\n",
        "    #extract data and text to list\n",
        "    text_results = []\n",
        "    for text_result in data[0]:\n",
        "      text = text_result[0]\n",
        "      text_results.append({'id': filename, 'text': text})\n",
        "\n",
        "    #append text results to the ocr results\n",
        "    ocr_results.extend(text_results)\n",
        "\n",
        "#export it to dataframe\n",
        "allMedicine = pd.DataFrame(ocr_results)"
      ],
      "metadata": {
        "colab": {
          "base_uri": "https://localhost:8080/"
        },
        "id": "8sXSQNTo30w_",
        "outputId": "7d69861d-6e68-4459-d7b4-8e583ed50851"
      },
      "execution_count": null,
      "outputs": [
        {
          "output_type": "stream",
          "name": "stdout",
          "text": [
            "Looking for /root/.keras-ocr/craft_mlt_25k.h5\n",
            "Downloading /root/.keras-ocr/craft_mlt_25k.h5\n"
          ]
        },
        {
          "output_type": "stream",
          "name": "stderr",
          "text": [
            "WARNING:tensorflow:From /usr/local/lib/python3.10/dist-packages/tensorflow/python/util/dispatch.py:1260: resize_bilinear (from tensorflow.python.ops.image_ops_impl) is deprecated and will be removed in a future version.\n",
            "Instructions for updating:\n",
            "Use `tf.image.resize(...method=ResizeMethod.BILINEAR...)` instead.\n"
          ]
        },
        {
          "output_type": "stream",
          "name": "stdout",
          "text": [
            "Looking for /root/.keras-ocr/crnn_kurapan.h5\n",
            "Downloading /root/.keras-ocr/crnn_kurapan.h5\n"
          ]
        },
        {
          "output_type": "stream",
          "name": "stderr",
          "text": [
            "\rMedicine:   0%|          | 0/132 [00:00<?, ?it/s]"
          ]
        },
        {
          "output_type": "stream",
          "name": "stdout",
          "text": [
            "1/1 [==============================] - 15s 15s/step\n",
            "1/1 [==============================] - 4s 4s/step\n"
          ]
        },
        {
          "output_type": "stream",
          "name": "stderr",
          "text": [
            "\rMedicine:   1%|          | 1/132 [00:19<43:00, 19.70s/it]"
          ]
        },
        {
          "output_type": "stream",
          "name": "stdout",
          "text": [
            "1/1 [==============================] - 0s 60ms/step\n",
            "1/1 [==============================] - 1s 829ms/step\n"
          ]
        },
        {
          "output_type": "stream",
          "name": "stderr",
          "text": [
            "\rMedicine:   2%|▏         | 2/132 [00:22<21:05,  9.73s/it]"
          ]
        },
        {
          "output_type": "stream",
          "name": "stdout",
          "text": [
            "1/1 [==============================] - 0s 45ms/step\n",
            "4/4 [==============================] - 3s 427ms/step\n"
          ]
        },
        {
          "output_type": "stream",
          "name": "stderr",
          "text": [
            "\rMedicine:   2%|▏         | 3/132 [00:28<17:36,  8.19s/it]"
          ]
        },
        {
          "output_type": "stream",
          "name": "stdout",
          "text": [
            "1/1 [==============================] - 0s 33ms/step\n",
            "2/2 [==============================] - 1s 889ms/step\n"
          ]
        },
        {
          "output_type": "stream",
          "name": "stderr",
          "text": [
            "\rMedicine:   3%|▎         | 4/132 [00:30<12:14,  5.74s/it]"
          ]
        },
        {
          "output_type": "stream",
          "name": "stdout",
          "text": [
            "1/1 [==============================] - 0s 46ms/step\n",
            "1/1 [==============================] - 1s 1s/step\n"
          ]
        },
        {
          "output_type": "stream",
          "name": "stderr",
          "text": [
            "\rMedicine:   4%|▍         | 5/132 [00:32<09:13,  4.36s/it]"
          ]
        },
        {
          "output_type": "stream",
          "name": "stdout",
          "text": [
            "1/1 [==============================] - 0s 44ms/step\n",
            "3/3 [==============================] - 1s 526ms/step\n"
          ]
        },
        {
          "output_type": "stream",
          "name": "stderr",
          "text": [
            "\rMedicine:   5%|▍         | 6/132 [00:34<07:37,  3.63s/it]"
          ]
        },
        {
          "output_type": "stream",
          "name": "stdout",
          "text": [
            "1/1 [==============================] - 0s 70ms/step\n",
            "2/2 [==============================] - 1s 653ms/step\n"
          ]
        },
        {
          "output_type": "stream",
          "name": "stderr",
          "text": [
            "\rMedicine:   5%|▌         | 7/132 [00:36<06:24,  3.08s/it]"
          ]
        },
        {
          "output_type": "stream",
          "name": "stdout",
          "text": [
            "1/1 [==============================] - 0s 33ms/step\n",
            "1/1 [==============================] - 1s 1s/step\n"
          ]
        },
        {
          "output_type": "stream",
          "name": "stderr",
          "text": [
            "\rMedicine:   6%|▌         | 8/132 [00:38<05:31,  2.67s/it]"
          ]
        },
        {
          "output_type": "stream",
          "name": "stdout",
          "text": [
            "1/1 [==============================] - 0s 33ms/step\n",
            "2/2 [==============================] - 0s 31ms/step\n"
          ]
        },
        {
          "output_type": "stream",
          "name": "stderr",
          "text": [
            "\rMedicine:   7%|▋         | 9/132 [00:39<04:19,  2.11s/it]"
          ]
        },
        {
          "output_type": "stream",
          "name": "stdout",
          "text": [
            "1/1 [==============================] - 0s 44ms/step\n",
            "2/2 [==============================] - 2s 2s/step\n"
          ]
        },
        {
          "output_type": "stream",
          "name": "stderr",
          "text": [
            "\rMedicine:   8%|▊         | 10/132 [00:41<04:27,  2.20s/it]"
          ]
        },
        {
          "output_type": "stream",
          "name": "stdout",
          "text": [
            "1/1 [==============================] - 0s 55ms/step\n",
            "3/3 [==============================] - 0s 207ms/step\n"
          ]
        },
        {
          "output_type": "stream",
          "name": "stderr",
          "text": [
            "\rMedicine:   8%|▊         | 11/132 [00:43<03:52,  1.92s/it]"
          ]
        },
        {
          "output_type": "stream",
          "name": "stdout",
          "text": [
            "1/1 [==============================] - 0s 47ms/step\n",
            "2/2 [==============================] - 1s 1s/step\n"
          ]
        },
        {
          "output_type": "stream",
          "name": "stderr",
          "text": [
            "\rMedicine:   9%|▉         | 12/132 [00:46<04:43,  2.36s/it]"
          ]
        },
        {
          "output_type": "stream",
          "name": "stdout",
          "text": [
            "1/1 [==============================] - 0s 45ms/step\n",
            "2/2 [==============================] - 1s 1s/step\n"
          ]
        },
        {
          "output_type": "stream",
          "name": "stderr",
          "text": [
            "\rMedicine:  10%|▉         | 13/132 [00:50<05:29,  2.77s/it]"
          ]
        },
        {
          "output_type": "stream",
          "name": "stdout",
          "text": [
            "1/1 [==============================] - 0s 51ms/step\n",
            "3/3 [==============================] - 0s 52ms/step\n"
          ]
        },
        {
          "output_type": "stream",
          "name": "stderr",
          "text": [
            "\rMedicine:  11%|█         | 14/132 [00:51<04:33,  2.32s/it]"
          ]
        },
        {
          "output_type": "stream",
          "name": "stdout",
          "text": [
            "1/1 [==============================] - 0s 36ms/step\n",
            "2/2 [==============================] - 1s 952ms/step\n"
          ]
        },
        {
          "output_type": "stream",
          "name": "stderr",
          "text": [
            "\rMedicine:  11%|█▏        | 15/132 [00:53<04:14,  2.18s/it]"
          ]
        },
        {
          "output_type": "stream",
          "name": "stdout",
          "text": [
            "1/1 [==============================] - 0s 35ms/step\n",
            "1/1 [==============================] - 0s 45ms/step\n"
          ]
        },
        {
          "output_type": "stream",
          "name": "stderr",
          "text": [
            "\rMedicine:  12%|█▏        | 16/132 [00:54<03:21,  1.74s/it]"
          ]
        },
        {
          "output_type": "stream",
          "name": "stdout",
          "text": [
            "1/1 [==============================] - 0s 34ms/step\n",
            "1/1 [==============================] - 1s 1s/step\n"
          ]
        },
        {
          "output_type": "stream",
          "name": "stderr",
          "text": [
            "\rMedicine:  13%|█▎        | 17/132 [00:56<03:31,  1.84s/it]"
          ]
        },
        {
          "output_type": "stream",
          "name": "stdout",
          "text": [
            "1/1 [==============================] - 0s 36ms/step\n",
            "2/2 [==============================] - 1s 1s/step\n"
          ]
        },
        {
          "output_type": "stream",
          "name": "stderr",
          "text": [
            "\rMedicine:  14%|█▎        | 18/132 [00:59<04:18,  2.27s/it]"
          ]
        },
        {
          "output_type": "stream",
          "name": "stdout",
          "text": [
            "1/1 [==============================] - 0s 34ms/step\n",
            "1/1 [==============================] - 2s 2s/step\n"
          ]
        },
        {
          "output_type": "stream",
          "name": "stderr",
          "text": [
            "\rMedicine:  14%|█▍        | 19/132 [01:01<04:15,  2.26s/it]"
          ]
        },
        {
          "output_type": "stream",
          "name": "stdout",
          "text": [
            "1/1 [==============================] - 0s 50ms/step\n",
            "1/1 [==============================] - 1s 1s/step\n"
          ]
        },
        {
          "output_type": "stream",
          "name": "stderr",
          "text": [
            "\rMedicine:  15%|█▌        | 20/132 [01:04<04:15,  2.28s/it]"
          ]
        },
        {
          "output_type": "stream",
          "name": "stdout",
          "text": [
            "1/1 [==============================] - 0s 43ms/step\n",
            "2/2 [==============================] - 0s 37ms/step\n"
          ]
        },
        {
          "output_type": "stream",
          "name": "stderr",
          "text": [
            "\rMedicine:  16%|█▌        | 21/132 [01:05<03:30,  1.89s/it]"
          ]
        },
        {
          "output_type": "stream",
          "name": "stdout",
          "text": [
            "1/1 [==============================] - 0s 46ms/step\n",
            "3/3 [==============================] - 0s 49ms/step\n"
          ]
        },
        {
          "output_type": "stream",
          "name": "stderr",
          "text": [
            "\rMedicine:  17%|█▋        | 22/132 [01:06<03:16,  1.78s/it]"
          ]
        },
        {
          "output_type": "stream",
          "name": "stdout",
          "text": [
            "1/1 [==============================] - 0s 53ms/step\n",
            "1/1 [==============================] - 0s 111ms/step\n"
          ]
        },
        {
          "output_type": "stream",
          "name": "stderr",
          "text": [
            "\rMedicine:  17%|█▋        | 23/132 [01:07<02:48,  1.55s/it]"
          ]
        },
        {
          "output_type": "stream",
          "name": "stdout",
          "text": [
            "1/1 [==============================] - 0s 40ms/step\n",
            "1/1 [==============================] - 0s 137ms/step\n"
          ]
        },
        {
          "output_type": "stream",
          "name": "stderr",
          "text": [
            "\rMedicine:  18%|█▊        | 24/132 [01:08<02:35,  1.44s/it]"
          ]
        },
        {
          "output_type": "stream",
          "name": "stdout",
          "text": [
            "1/1 [==============================] - 0s 33ms/step\n",
            "5/5 [==============================] - 1s 233ms/step\n"
          ]
        },
        {
          "output_type": "stream",
          "name": "stderr",
          "text": [
            "\rMedicine:  19%|█▉        | 25/132 [01:11<03:18,  1.85s/it]"
          ]
        },
        {
          "output_type": "stream",
          "name": "stdout",
          "text": [
            "1/1 [==============================] - 0s 34ms/step\n",
            "1/1 [==============================] - 0s 66ms/step\n"
          ]
        },
        {
          "output_type": "stream",
          "name": "stderr",
          "text": [
            "\rMedicine:  20%|█▉        | 26/132 [01:12<02:51,  1.61s/it]"
          ]
        },
        {
          "output_type": "stream",
          "name": "stdout",
          "text": [
            "1/1 [==============================] - 0s 33ms/step\n",
            "3/3 [==============================] - 2s 764ms/step\n"
          ]
        },
        {
          "output_type": "stream",
          "name": "stderr",
          "text": [
            "\rMedicine:  20%|██        | 27/132 [01:16<03:46,  2.16s/it]"
          ]
        },
        {
          "output_type": "stream",
          "name": "stdout",
          "text": [
            "1/1 [==============================] - 0s 35ms/step\n",
            "1/1 [==============================] - 1s 1s/step\n"
          ]
        },
        {
          "output_type": "stream",
          "name": "stderr",
          "text": [
            "\rMedicine:  21%|██        | 28/132 [01:18<03:39,  2.11s/it]"
          ]
        },
        {
          "output_type": "stream",
          "name": "stdout",
          "text": [
            "1/1 [==============================] - 0s 47ms/step\n",
            "1/1 [==============================] - 1s 1s/step\n"
          ]
        },
        {
          "output_type": "stream",
          "name": "stderr",
          "text": [
            "\rMedicine:  22%|██▏       | 29/132 [01:20<03:33,  2.08s/it]"
          ]
        },
        {
          "output_type": "stream",
          "name": "stdout",
          "text": [
            "1/1 [==============================] - 0s 60ms/step\n",
            "2/2 [==============================] - 1s 428ms/step\n"
          ]
        },
        {
          "output_type": "stream",
          "name": "stderr",
          "text": [
            "\rMedicine:  23%|██▎       | 30/132 [01:21<03:20,  1.97s/it]"
          ]
        },
        {
          "output_type": "stream",
          "name": "stdout",
          "text": [
            "1/1 [==============================] - 0s 54ms/step\n",
            "3/3 [==============================] - 0s 59ms/step\n"
          ]
        },
        {
          "output_type": "stream",
          "name": "stderr",
          "text": [
            "\rMedicine:  23%|██▎       | 31/132 [01:23<03:02,  1.81s/it]"
          ]
        },
        {
          "output_type": "stream",
          "name": "stdout",
          "text": [
            "1/1 [==============================] - 0s 45ms/step\n",
            "1/1 [==============================] - 1s 703ms/step\n"
          ]
        },
        {
          "output_type": "stream",
          "name": "stderr",
          "text": [
            "\rMedicine:  24%|██▍       | 32/132 [01:24<02:46,  1.67s/it]"
          ]
        },
        {
          "output_type": "stream",
          "name": "stdout",
          "text": [
            "1/1 [==============================] - 0s 44ms/step\n",
            "9/9 [==============================] - 1s 55ms/step\n"
          ]
        },
        {
          "output_type": "stream",
          "name": "stderr",
          "text": [
            "\rMedicine:  25%|██▌       | 33/132 [01:26<02:57,  1.80s/it]"
          ]
        },
        {
          "output_type": "stream",
          "name": "stdout",
          "text": [
            "1/1 [==============================] - 0s 33ms/step\n",
            "1/1 [==============================] - 0s 54ms/step\n"
          ]
        },
        {
          "output_type": "stream",
          "name": "stderr",
          "text": [
            "\rMedicine:  26%|██▌       | 34/132 [01:27<02:23,  1.47s/it]"
          ]
        },
        {
          "output_type": "stream",
          "name": "stdout",
          "text": [
            "1/1 [==============================] - 0s 35ms/step\n",
            "1/1 [==============================] - 1s 614ms/step\n"
          ]
        },
        {
          "output_type": "stream",
          "name": "stderr",
          "text": [
            "\rMedicine:  27%|██▋       | 35/132 [01:28<02:15,  1.40s/it]"
          ]
        },
        {
          "output_type": "stream",
          "name": "stdout",
          "text": [
            "1/1 [==============================] - 0s 33ms/step\n",
            "1/1 [==============================] - 0s 39ms/step\n"
          ]
        },
        {
          "output_type": "stream",
          "name": "stderr",
          "text": [
            "\rMedicine:  27%|██▋       | 36/132 [01:29<01:52,  1.18s/it]"
          ]
        },
        {
          "output_type": "stream",
          "name": "stdout",
          "text": [
            "1/1 [==============================] - 0s 39ms/step\n",
            "1/1 [==============================] - 0s 39ms/step\n"
          ]
        },
        {
          "output_type": "stream",
          "name": "stderr",
          "text": [
            "\rMedicine:  28%|██▊       | 37/132 [01:29<01:37,  1.02s/it]"
          ]
        },
        {
          "output_type": "stream",
          "name": "stdout",
          "text": [
            "1/1 [==============================] - 0s 34ms/step\n",
            "2/2 [==============================] - 2s 2s/step\n"
          ]
        },
        {
          "output_type": "stream",
          "name": "stderr",
          "text": [
            "\rMedicine:  29%|██▉       | 38/132 [01:32<02:14,  1.43s/it]"
          ]
        },
        {
          "output_type": "stream",
          "name": "stdout",
          "text": [
            "1/1 [==============================] - 0s 35ms/step\n",
            "1/1 [==============================] - 0s 77ms/step\n"
          ]
        },
        {
          "output_type": "stream",
          "name": "stderr",
          "text": [
            "\rMedicine:  30%|██▉       | 39/132 [01:33<01:56,  1.25s/it]"
          ]
        },
        {
          "output_type": "stream",
          "name": "stdout",
          "text": [
            "1/1 [==============================] - 0s 53ms/step\n",
            "2/2 [==============================] - 0s 39ms/step\n"
          ]
        },
        {
          "output_type": "stream",
          "name": "stderr",
          "text": [
            "\rMedicine:  30%|███       | 40/132 [01:34<01:56,  1.26s/it]"
          ]
        },
        {
          "output_type": "stream",
          "name": "stdout",
          "text": [
            "1/1 [==============================] - 0s 51ms/step\n",
            "2/2 [==============================] - 0s 60ms/step\n"
          ]
        },
        {
          "output_type": "stream",
          "name": "stderr",
          "text": [
            "\rMedicine:  31%|███       | 41/132 [01:35<01:59,  1.31s/it]"
          ]
        },
        {
          "output_type": "stream",
          "name": "stdout",
          "text": [
            "1/1 [==============================] - 0s 58ms/step\n",
            "4/4 [==============================] - 0s 138ms/step\n"
          ]
        },
        {
          "output_type": "stream",
          "name": "stderr",
          "text": [
            "\rMedicine:  32%|███▏      | 42/132 [01:37<02:13,  1.49s/it]"
          ]
        },
        {
          "output_type": "stream",
          "name": "stdout",
          "text": [
            "1/1 [==============================] - 0s 59ms/step\n",
            "1/1 [==============================] - 0s 39ms/step\n"
          ]
        },
        {
          "output_type": "stream",
          "name": "stderr",
          "text": [
            "\rMedicine:  33%|███▎      | 43/132 [01:38<01:53,  1.27s/it]"
          ]
        },
        {
          "output_type": "stream",
          "name": "stdout",
          "text": [
            "1/1 [==============================] - 0s 47ms/step\n",
            "1/1 [==============================] - 0s 56ms/step\n"
          ]
        },
        {
          "output_type": "stream",
          "name": "stderr",
          "text": [
            "\rMedicine:  33%|███▎      | 44/132 [01:39<01:44,  1.19s/it]"
          ]
        },
        {
          "output_type": "stream",
          "name": "stdout",
          "text": [
            "1/1 [==============================] - 0s 46ms/step\n",
            "6/6 [==============================] - 0s 58ms/step\n"
          ]
        },
        {
          "output_type": "stream",
          "name": "stderr",
          "text": [
            "\rMedicine:  34%|███▍      | 45/132 [01:40<01:51,  1.28s/it]"
          ]
        },
        {
          "output_type": "stream",
          "name": "stdout",
          "text": [
            "1/1 [==============================] - 0s 32ms/step\n",
            "1/1 [==============================] - 1s 804ms/step\n"
          ]
        },
        {
          "output_type": "stream",
          "name": "stderr",
          "text": [
            "\rMedicine:  35%|███▍      | 46/132 [01:42<02:01,  1.41s/it]"
          ]
        },
        {
          "output_type": "stream",
          "name": "stdout",
          "text": [
            "1/1 [==============================] - 0s 34ms/step\n",
            "1/1 [==============================] - 0s 41ms/step\n"
          ]
        },
        {
          "output_type": "stream",
          "name": "stderr",
          "text": [
            "\rMedicine:  36%|███▌      | 47/132 [01:43<01:40,  1.18s/it]"
          ]
        },
        {
          "output_type": "stream",
          "name": "stdout",
          "text": [
            "1/1 [==============================] - 0s 35ms/step\n",
            "1/1 [==============================] - 0s 60ms/step\n"
          ]
        },
        {
          "output_type": "stream",
          "name": "stderr",
          "text": [
            "\rMedicine:  36%|███▋      | 48/132 [01:44<01:27,  1.04s/it]"
          ]
        },
        {
          "output_type": "stream",
          "name": "stdout",
          "text": [
            "1/1 [==============================] - 0s 33ms/step\n",
            "1/1 [==============================] - 0s 40ms/step\n"
          ]
        },
        {
          "output_type": "stream",
          "name": "stderr",
          "text": [
            "\rMedicine:  37%|███▋      | 49/132 [01:45<01:24,  1.01s/it]"
          ]
        },
        {
          "output_type": "stream",
          "name": "stdout",
          "text": [
            "1/1 [==============================] - 0s 37ms/step\n",
            "1/1 [==============================] - 0s 62ms/step\n"
          ]
        },
        {
          "output_type": "stream",
          "name": "stderr",
          "text": [
            "\rMedicine:  38%|███▊      | 50/132 [01:45<01:15,  1.08it/s]"
          ]
        },
        {
          "output_type": "stream",
          "name": "stdout",
          "text": [
            "1/1 [==============================] - 0s 35ms/step\n",
            "1/1 [==============================] - 0s 25ms/step\n"
          ]
        },
        {
          "output_type": "stream",
          "name": "stderr",
          "text": [
            "\rMedicine:  39%|███▊      | 51/132 [01:46<01:14,  1.09it/s]"
          ]
        },
        {
          "output_type": "stream",
          "name": "stdout",
          "text": [
            "1/1 [==============================] - 0s 34ms/step\n",
            "1/1 [==============================] - 0s 60ms/step\n"
          ]
        },
        {
          "output_type": "stream",
          "name": "stderr",
          "text": [
            "\rMedicine:  39%|███▉      | 52/132 [01:47<01:08,  1.16it/s]"
          ]
        },
        {
          "output_type": "stream",
          "name": "stdout",
          "text": [
            "1/1 [==============================] - 0s 35ms/step\n",
            "2/2 [==============================] - 0s 58ms/step\n"
          ]
        },
        {
          "output_type": "stream",
          "name": "stderr",
          "text": [
            "\rMedicine:  40%|████      | 53/132 [01:48<01:10,  1.12it/s]"
          ]
        },
        {
          "output_type": "stream",
          "name": "stdout",
          "text": [
            "1/1 [==============================] - 0s 47ms/step\n",
            "1/1 [==============================] - 0s 57ms/step\n"
          ]
        },
        {
          "output_type": "stream",
          "name": "stderr",
          "text": [
            "\rMedicine:  41%|████      | 54/132 [01:49<01:14,  1.05it/s]"
          ]
        },
        {
          "output_type": "stream",
          "name": "stdout",
          "text": [
            "1/1 [==============================] - 0s 42ms/step\n",
            "1/1 [==============================] - 0s 77ms/step\n"
          ]
        },
        {
          "output_type": "stream",
          "name": "stderr",
          "text": [
            "\rMedicine:  42%|████▏     | 55/132 [01:50<01:13,  1.05it/s]"
          ]
        },
        {
          "output_type": "stream",
          "name": "stdout",
          "text": [
            "1/1 [==============================] - 0s 46ms/step\n",
            "2/2 [==============================] - 1s 483ms/step\n"
          ]
        },
        {
          "output_type": "stream",
          "name": "stderr",
          "text": [
            "\rMedicine:  42%|████▏     | 56/132 [01:51<01:25,  1.12s/it]"
          ]
        },
        {
          "output_type": "stream",
          "name": "stdout",
          "text": [
            "1/1 [==============================] - 0s 44ms/step\n",
            "1/1 [==============================] - 0s 80ms/step\n"
          ]
        },
        {
          "output_type": "stream",
          "name": "stderr",
          "text": [
            "\rMedicine:  43%|████▎     | 57/132 [01:53<01:25,  1.14s/it]"
          ]
        },
        {
          "output_type": "stream",
          "name": "stdout",
          "text": [
            "1/1 [==============================] - 0s 48ms/step\n",
            "1/1 [==============================] - 0s 44ms/step\n"
          ]
        },
        {
          "output_type": "stream",
          "name": "stderr",
          "text": [
            "\rMedicine:  44%|████▍     | 58/132 [01:53<01:16,  1.04s/it]"
          ]
        },
        {
          "output_type": "stream",
          "name": "stdout",
          "text": [
            "1/1 [==============================] - 0s 50ms/step\n",
            "4/4 [==============================] - 0s 46ms/step\n"
          ]
        },
        {
          "output_type": "stream",
          "name": "stderr",
          "text": [
            "\rMedicine:  45%|████▍     | 59/132 [01:55<01:19,  1.09s/it]"
          ]
        },
        {
          "output_type": "stream",
          "name": "stdout",
          "text": [
            "1/1 [==============================] - 0s 33ms/step\n",
            "1/1 [==============================] - 0s 36ms/step\n"
          ]
        },
        {
          "output_type": "stream",
          "name": "stderr",
          "text": [
            "\rMedicine:  45%|████▌     | 60/132 [01:55<01:09,  1.04it/s]"
          ]
        },
        {
          "output_type": "stream",
          "name": "stdout",
          "text": [
            "1/1 [==============================] - 0s 34ms/step\n",
            "1/1 [==============================] - 0s 34ms/step\n"
          ]
        },
        {
          "output_type": "stream",
          "name": "stderr",
          "text": [
            "\rMedicine:  46%|████▌     | 61/132 [01:56<01:01,  1.16it/s]"
          ]
        },
        {
          "output_type": "stream",
          "name": "stdout",
          "text": [
            "1/1 [==============================] - 0s 36ms/step\n",
            "1/1 [==============================] - 0s 66ms/step\n"
          ]
        },
        {
          "output_type": "stream",
          "name": "stderr",
          "text": [
            "\rMedicine:  47%|████▋     | 62/132 [01:57<00:57,  1.22it/s]"
          ]
        },
        {
          "output_type": "stream",
          "name": "stdout",
          "text": [
            "1/1 [==============================] - 0s 35ms/step\n",
            "2/2 [==============================] - 1s 517ms/step\n"
          ]
        },
        {
          "output_type": "stream",
          "name": "stderr",
          "text": [
            "\rMedicine:  48%|████▊     | 63/132 [01:58<01:05,  1.05it/s]"
          ]
        },
        {
          "output_type": "stream",
          "name": "stdout",
          "text": [
            "1/1 [==============================] - 0s 33ms/step\n",
            "2/2 [==============================] - 0s 25ms/step\n"
          ]
        },
        {
          "output_type": "stream",
          "name": "stderr",
          "text": [
            "\rMedicine:  48%|████▊     | 64/132 [01:59<01:02,  1.09it/s]"
          ]
        },
        {
          "output_type": "stream",
          "name": "stdout",
          "text": [
            "1/1 [==============================] - 0s 46ms/step\n",
            "3/3 [==============================] - 0s 46ms/step\n"
          ]
        },
        {
          "output_type": "stream",
          "name": "stderr",
          "text": [
            "\rMedicine:  49%|████▉     | 65/132 [02:00<01:05,  1.02it/s]"
          ]
        },
        {
          "output_type": "stream",
          "name": "stdout",
          "text": [
            "1/1 [==============================] - 0s 39ms/step\n",
            "1/1 [==============================] - 0s 55ms/step\n"
          ]
        },
        {
          "output_type": "stream",
          "name": "stderr",
          "text": [
            "\rMedicine:  50%|█████     | 66/132 [02:01<00:59,  1.12it/s]"
          ]
        },
        {
          "output_type": "stream",
          "name": "stdout",
          "text": [
            "1/1 [==============================] - 0s 33ms/step\n",
            "1/1 [==============================] - 0s 60ms/step\n"
          ]
        },
        {
          "output_type": "stream",
          "name": "stderr",
          "text": [
            "\rMedicine:  51%|█████     | 67/132 [02:01<00:54,  1.19it/s]"
          ]
        },
        {
          "output_type": "stream",
          "name": "stdout",
          "text": [
            "1/1 [==============================] - 0s 33ms/step\n",
            "1/1 [==============================] - 0s 53ms/step\n"
          ]
        },
        {
          "output_type": "stream",
          "name": "stderr",
          "text": [
            "\rMedicine:  52%|█████▏    | 68/132 [02:02<00:51,  1.25it/s]"
          ]
        },
        {
          "output_type": "stream",
          "name": "stdout",
          "text": [
            "1/1 [==============================] - 0s 36ms/step\n",
            "3/3 [==============================] - 0s 41ms/step\n"
          ]
        },
        {
          "output_type": "stream",
          "name": "stderr",
          "text": [
            "\rMedicine:  52%|█████▏    | 69/132 [02:03<00:52,  1.20it/s]"
          ]
        },
        {
          "output_type": "stream",
          "name": "stdout",
          "text": [
            "1/1 [==============================] - 0s 55ms/step\n",
            "1/1 [==============================] - 0s 51ms/step\n"
          ]
        },
        {
          "output_type": "stream",
          "name": "stderr",
          "text": [
            "\rMedicine:  53%|█████▎    | 70/132 [02:04<00:49,  1.26it/s]"
          ]
        },
        {
          "output_type": "stream",
          "name": "stdout",
          "text": [
            "1/1 [==============================] - 0s 65ms/step\n",
            "1/1 [==============================] - 0s 81ms/step\n"
          ]
        },
        {
          "output_type": "stream",
          "name": "stderr",
          "text": [
            "\rMedicine:  54%|█████▍    | 71/132 [02:04<00:50,  1.21it/s]"
          ]
        },
        {
          "output_type": "stream",
          "name": "stdout",
          "text": [
            "1/1 [==============================] - 0s 52ms/step\n",
            "1/1 [==============================] - 0s 51ms/step\n"
          ]
        },
        {
          "output_type": "stream",
          "name": "stderr",
          "text": [
            "\rMedicine:  55%|█████▍    | 72/132 [02:06<00:53,  1.12it/s]"
          ]
        },
        {
          "output_type": "stream",
          "name": "stdout",
          "text": [
            "1/1 [==============================] - 0s 69ms/step\n",
            "1/1 [==============================] - 0s 414ms/step\n"
          ]
        },
        {
          "output_type": "stream",
          "name": "stderr",
          "text": [
            "\rMedicine:  55%|█████▌    | 73/132 [02:07<00:58,  1.01it/s]"
          ]
        },
        {
          "output_type": "stream",
          "name": "stdout",
          "text": [
            "1/1 [==============================] - 0s 78ms/step\n",
            "1/1 [==============================] - 0s 73ms/step\n"
          ]
        },
        {
          "output_type": "stream",
          "name": "stderr",
          "text": [
            "\rMedicine:  56%|█████▌    | 74/132 [02:08<00:59,  1.02s/it]"
          ]
        },
        {
          "output_type": "stream",
          "name": "stdout",
          "text": [
            "1/1 [==============================] - 0s 88ms/step\n",
            "1/1 [==============================] - 0s 43ms/step\n"
          ]
        },
        {
          "output_type": "stream",
          "name": "stderr",
          "text": [
            "\rMedicine:  57%|█████▋    | 75/132 [02:09<01:00,  1.06s/it]"
          ]
        },
        {
          "output_type": "stream",
          "name": "stdout",
          "text": [
            "1/1 [==============================] - 0s 71ms/step\n",
            "1/1 [==============================] - 0s 38ms/step\n"
          ]
        },
        {
          "output_type": "stream",
          "name": "stderr",
          "text": [
            "\rMedicine:  58%|█████▊    | 76/132 [02:10<00:53,  1.04it/s]"
          ]
        },
        {
          "output_type": "stream",
          "name": "stdout",
          "text": [
            "1/1 [==============================] - 0s 47ms/step\n",
            "1/1 [==============================] - 0s 36ms/step\n"
          ]
        },
        {
          "output_type": "stream",
          "name": "stderr",
          "text": [
            "\rMedicine:  58%|█████▊    | 77/132 [02:10<00:47,  1.16it/s]"
          ]
        },
        {
          "output_type": "stream",
          "name": "stdout",
          "text": [
            "1/1 [==============================] - 0s 44ms/step\n",
            "1/1 [==============================] - 0s 60ms/step\n"
          ]
        },
        {
          "output_type": "stream",
          "name": "stderr",
          "text": [
            "\rMedicine:  59%|█████▉    | 78/132 [02:11<00:44,  1.22it/s]"
          ]
        },
        {
          "output_type": "stream",
          "name": "stdout",
          "text": [
            "1/1 [==============================] - 0s 56ms/step\n",
            "1/1 [==============================] - 0s 61ms/step\n"
          ]
        },
        {
          "output_type": "stream",
          "name": "stderr",
          "text": [
            "\rMedicine:  60%|█████▉    | 79/132 [02:12<00:42,  1.26it/s]"
          ]
        },
        {
          "output_type": "stream",
          "name": "stdout",
          "text": [
            "1/1 [==============================] - 0s 35ms/step\n",
            "2/2 [==============================] - 0s 60ms/step\n"
          ]
        },
        {
          "output_type": "stream",
          "name": "stderr",
          "text": [
            "\rMedicine:  61%|██████    | 80/132 [02:13<00:43,  1.20it/s]"
          ]
        },
        {
          "output_type": "stream",
          "name": "stdout",
          "text": [
            "1/1 [==============================] - 0s 51ms/step\n",
            "1/1 [==============================] - 0s 43ms/step\n"
          ]
        },
        {
          "output_type": "stream",
          "name": "stderr",
          "text": [
            "\rMedicine:  61%|██████▏   | 81/132 [02:13<00:40,  1.25it/s]"
          ]
        },
        {
          "output_type": "stream",
          "name": "stdout",
          "text": [
            "1/1 [==============================] - 0s 39ms/step\n",
            "1/1 [==============================] - 0s 62ms/step\n"
          ]
        },
        {
          "output_type": "stream",
          "name": "stderr",
          "text": [
            "\rMedicine:  62%|██████▏   | 82/132 [02:14<00:43,  1.14it/s]"
          ]
        },
        {
          "output_type": "stream",
          "name": "stdout",
          "text": [
            "1/1 [==============================] - 0s 45ms/step\n",
            "1/1 [==============================] - 0s 43ms/step\n"
          ]
        },
        {
          "output_type": "stream",
          "name": "stderr",
          "text": [
            "\rMedicine:  63%|██████▎   | 83/132 [02:15<00:40,  1.21it/s]"
          ]
        },
        {
          "output_type": "stream",
          "name": "stdout",
          "text": [
            "1/1 [==============================] - 0s 35ms/step\n",
            "1/1 [==============================] - 0s 41ms/step\n"
          ]
        },
        {
          "output_type": "stream",
          "name": "stderr",
          "text": [
            "\rMedicine:  64%|██████▎   | 84/132 [02:16<00:37,  1.29it/s]"
          ]
        },
        {
          "output_type": "stream",
          "name": "stdout",
          "text": [
            "1/1 [==============================] - 0s 47ms/step\n",
            "1/1 [==============================] - 0s 43ms/step\n"
          ]
        },
        {
          "output_type": "stream",
          "name": "stderr",
          "text": [
            "\rMedicine:  64%|██████▍   | 85/132 [02:17<00:35,  1.33it/s]"
          ]
        },
        {
          "output_type": "stream",
          "name": "stdout",
          "text": [
            "1/1 [==============================] - 0s 34ms/step\n",
            "1/1 [==============================] - 0s 58ms/step\n"
          ]
        },
        {
          "output_type": "stream",
          "name": "stderr",
          "text": [
            "\rMedicine:  65%|██████▌   | 86/132 [02:17<00:33,  1.36it/s]"
          ]
        },
        {
          "output_type": "stream",
          "name": "stdout",
          "text": [
            "1/1 [==============================] - 0s 35ms/step\n",
            "1/1 [==============================] - 0s 41ms/step\n"
          ]
        },
        {
          "output_type": "stream",
          "name": "stderr",
          "text": [
            "\rMedicine:  66%|██████▌   | 87/132 [02:18<00:32,  1.38it/s]"
          ]
        },
        {
          "output_type": "stream",
          "name": "stdout",
          "text": [
            "1/1 [==============================] - 0s 36ms/step\n",
            "1/1 [==============================] - 0s 60ms/step\n"
          ]
        },
        {
          "output_type": "stream",
          "name": "stderr",
          "text": [
            "\rMedicine:  67%|██████▋   | 88/132 [02:19<00:31,  1.38it/s]"
          ]
        },
        {
          "output_type": "stream",
          "name": "stdout",
          "text": [
            "1/1 [==============================] - 0s 35ms/step\n",
            "1/1 [==============================] - 0s 46ms/step\n"
          ]
        },
        {
          "output_type": "stream",
          "name": "stderr",
          "text": [
            "\rMedicine:  67%|██████▋   | 89/132 [02:19<00:30,  1.40it/s]"
          ]
        },
        {
          "output_type": "stream",
          "name": "stdout",
          "text": [
            "1/1 [==============================] - 0s 46ms/step\n",
            "1/1 [==============================] - 0s 69ms/step\n"
          ]
        },
        {
          "output_type": "stream",
          "name": "stderr",
          "text": [
            "\rMedicine:  68%|██████▊   | 90/132 [02:20<00:34,  1.20it/s]"
          ]
        },
        {
          "output_type": "stream",
          "name": "stdout",
          "text": [
            "1/1 [==============================] - 0s 46ms/step\n",
            "1/1 [==============================] - 0s 76ms/step\n"
          ]
        },
        {
          "output_type": "stream",
          "name": "stderr",
          "text": [
            "\rMedicine:  69%|██████▉   | 91/132 [02:21<00:34,  1.17it/s]"
          ]
        },
        {
          "output_type": "stream",
          "name": "stdout",
          "text": [
            "1/1 [==============================] - 0s 62ms/step\n",
            "1/1 [==============================] - 2s 2s/step\n"
          ]
        },
        {
          "output_type": "stream",
          "name": "stderr",
          "text": [
            "\rMedicine:  70%|██████▉   | 92/132 [02:24<00:53,  1.35s/it]"
          ]
        },
        {
          "output_type": "stream",
          "name": "stdout",
          "text": [
            "1/1 [==============================] - 0s 47ms/step\n",
            "1/1 [==============================] - 0s 87ms/step\n"
          ]
        },
        {
          "output_type": "stream",
          "name": "stderr",
          "text": [
            "\rMedicine:  70%|███████   | 93/132 [02:25<00:47,  1.22s/it]"
          ]
        },
        {
          "output_type": "stream",
          "name": "stdout",
          "text": [
            "1/1 [==============================] - 0s 48ms/step\n",
            "1/1 [==============================] - 0s 44ms/step\n"
          ]
        },
        {
          "output_type": "stream",
          "name": "stderr",
          "text": [
            "\rMedicine:  71%|███████   | 94/132 [02:26<00:41,  1.09s/it]"
          ]
        },
        {
          "output_type": "stream",
          "name": "stdout",
          "text": [
            "1/1 [==============================] - 0s 37ms/step\n",
            "1/1 [==============================] - 0s 46ms/step\n"
          ]
        },
        {
          "output_type": "stream",
          "name": "stderr",
          "text": [
            "\rMedicine:  72%|███████▏  | 95/132 [02:26<00:35,  1.03it/s]"
          ]
        },
        {
          "output_type": "stream",
          "name": "stdout",
          "text": [
            "1/1 [==============================] - 0s 45ms/step\n",
            "1/1 [==============================] - 0s 37ms/step\n"
          ]
        },
        {
          "output_type": "stream",
          "name": "stderr",
          "text": [
            "\rMedicine:  73%|███████▎  | 96/132 [02:27<00:34,  1.04it/s]"
          ]
        },
        {
          "output_type": "stream",
          "name": "stdout",
          "text": [
            "1/1 [==============================] - 0s 36ms/step\n",
            "2/2 [==============================] - 0s 49ms/step\n"
          ]
        },
        {
          "output_type": "stream",
          "name": "stderr",
          "text": [
            "\rMedicine:  73%|███████▎  | 97/132 [02:28<00:32,  1.06it/s]"
          ]
        },
        {
          "output_type": "stream",
          "name": "stdout",
          "text": [
            "1/1 [==============================] - 0s 34ms/step\n",
            "1/1 [==============================] - 0s 46ms/step\n"
          ]
        },
        {
          "output_type": "stream",
          "name": "stderr",
          "text": [
            "\rMedicine:  74%|███████▍  | 98/132 [02:29<00:29,  1.15it/s]"
          ]
        },
        {
          "output_type": "stream",
          "name": "stdout",
          "text": [
            "1/1 [==============================] - 0s 38ms/step\n",
            "1/1 [==============================] - 0s 62ms/step\n"
          ]
        },
        {
          "output_type": "stream",
          "name": "stderr",
          "text": [
            "\rMedicine:  75%|███████▌  | 99/132 [02:30<00:27,  1.20it/s]"
          ]
        },
        {
          "output_type": "stream",
          "name": "stdout",
          "text": [
            "1/1 [==============================] - 0s 49ms/step\n",
            "1/1 [==============================] - 0s 44ms/step\n"
          ]
        },
        {
          "output_type": "stream",
          "name": "stderr",
          "text": [
            "\rMedicine:  76%|███████▌  | 100/132 [02:30<00:25,  1.26it/s]"
          ]
        },
        {
          "output_type": "stream",
          "name": "stdout",
          "text": [
            "1/1 [==============================] - 0s 49ms/step\n",
            "2/2 [==============================] - 0s 36ms/step\n"
          ]
        },
        {
          "output_type": "stream",
          "name": "stderr",
          "text": [
            "\rMedicine:  77%|███████▋  | 101/132 [02:31<00:25,  1.20it/s]"
          ]
        },
        {
          "output_type": "stream",
          "name": "stdout",
          "text": [
            "1/1 [==============================] - 0s 33ms/step\n",
            "2/2 [==============================] - 0s 56ms/step\n"
          ]
        },
        {
          "output_type": "stream",
          "name": "stderr",
          "text": [
            "\rMedicine:  77%|███████▋  | 102/132 [02:32<00:25,  1.16it/s]"
          ]
        },
        {
          "output_type": "stream",
          "name": "stdout",
          "text": [
            "1/1 [==============================] - 0s 40ms/step\n",
            "1/1 [==============================] - 0s 65ms/step\n"
          ]
        },
        {
          "output_type": "stream",
          "name": "stderr",
          "text": [
            "\rMedicine:  78%|███████▊  | 103/132 [02:33<00:24,  1.21it/s]"
          ]
        },
        {
          "output_type": "stream",
          "name": "stdout",
          "text": [
            "1/1 [==============================] - 0s 46ms/step\n",
            "2/2 [==============================] - 0s 57ms/step\n"
          ]
        },
        {
          "output_type": "stream",
          "name": "stderr",
          "text": [
            "\rMedicine:  79%|███████▉  | 104/132 [02:34<00:24,  1.15it/s]"
          ]
        },
        {
          "output_type": "stream",
          "name": "stdout",
          "text": [
            "1/1 [==============================] - 0s 36ms/step\n",
            "3/3 [==============================] - 0s 53ms/step\n"
          ]
        },
        {
          "output_type": "stream",
          "name": "stderr",
          "text": [
            "\rMedicine:  80%|███████▉  | 105/132 [02:35<00:24,  1.08it/s]"
          ]
        },
        {
          "output_type": "stream",
          "name": "stdout",
          "text": [
            "1/1 [==============================] - 0s 48ms/step\n",
            "3/3 [==============================] - 0s 51ms/step\n"
          ]
        },
        {
          "output_type": "stream",
          "name": "stderr",
          "text": [
            "\rMedicine:  80%|████████  | 106/132 [02:37<00:33,  1.28s/it]"
          ]
        },
        {
          "output_type": "stream",
          "name": "stdout",
          "text": [
            "1/1 [==============================] - 0s 47ms/step\n",
            "2/2 [==============================] - 0s 64ms/step\n"
          ]
        },
        {
          "output_type": "stream",
          "name": "stderr",
          "text": [
            "\rMedicine:  81%|████████  | 107/132 [02:38<00:33,  1.33s/it]"
          ]
        },
        {
          "output_type": "stream",
          "name": "stdout",
          "text": [
            "1/1 [==============================] - 0s 68ms/step\n",
            "3/3 [==============================] - 0s 49ms/step\n"
          ]
        },
        {
          "output_type": "stream",
          "name": "stderr",
          "text": [
            "\rMedicine:  82%|████████▏ | 108/132 [02:40<00:34,  1.43s/it]"
          ]
        },
        {
          "output_type": "stream",
          "name": "stdout",
          "text": [
            "1/1 [==============================] - 0s 62ms/step\n",
            "2/2 [==============================] - 0s 59ms/step\n"
          ]
        },
        {
          "output_type": "stream",
          "name": "stderr",
          "text": [
            "\rMedicine:  83%|████████▎ | 109/132 [02:41<00:32,  1.39s/it]"
          ]
        },
        {
          "output_type": "stream",
          "name": "stdout",
          "text": [
            "1/1 [==============================] - 0s 35ms/step\n",
            "1/1 [==============================] - 0s 45ms/step\n"
          ]
        },
        {
          "output_type": "stream",
          "name": "stderr",
          "text": [
            "\rMedicine:  83%|████████▎ | 110/132 [02:42<00:26,  1.19s/it]"
          ]
        },
        {
          "output_type": "stream",
          "name": "stdout",
          "text": [
            "1/1 [==============================] - 0s 38ms/step\n",
            "1/1 [==============================] - 0s 61ms/step\n"
          ]
        },
        {
          "output_type": "stream",
          "name": "stderr",
          "text": [
            "\rMedicine:  84%|████████▍ | 111/132 [02:43<00:22,  1.05s/it]"
          ]
        },
        {
          "output_type": "stream",
          "name": "stdout",
          "text": [
            "1/1 [==============================] - 0s 46ms/step\n",
            "2/2 [==============================] - 0s 28ms/step\n"
          ]
        },
        {
          "output_type": "stream",
          "name": "stderr",
          "text": [
            "\rMedicine:  85%|████████▍ | 112/132 [02:44<00:19,  1.01it/s]"
          ]
        },
        {
          "output_type": "stream",
          "name": "stdout",
          "text": [
            "1/1 [==============================] - 0s 35ms/step\n",
            "1/1 [==============================] - 0s 78ms/step\n"
          ]
        },
        {
          "output_type": "stream",
          "name": "stderr",
          "text": [
            "\rMedicine:  86%|████████▌ | 113/132 [02:44<00:17,  1.08it/s]"
          ]
        },
        {
          "output_type": "stream",
          "name": "stdout",
          "text": [
            "1/1 [==============================] - 0s 41ms/step\n",
            "2/2 [==============================] - 0s 34ms/step\n"
          ]
        },
        {
          "output_type": "stream",
          "name": "stderr",
          "text": [
            "\rMedicine:  86%|████████▋ | 114/132 [02:45<00:16,  1.09it/s]"
          ]
        },
        {
          "output_type": "stream",
          "name": "stdout",
          "text": [
            "1/1 [==============================] - 0s 35ms/step\n",
            "6/6 [==============================] - 0s 58ms/step\n"
          ]
        },
        {
          "output_type": "stream",
          "name": "stderr",
          "text": [
            "\rMedicine:  87%|████████▋ | 115/132 [02:47<00:20,  1.20s/it]"
          ]
        },
        {
          "output_type": "stream",
          "name": "stdout",
          "text": [
            "1/1 [==============================] - 0s 34ms/step\n",
            "4/4 [==============================] - 0s 50ms/step\n"
          ]
        },
        {
          "output_type": "stream",
          "name": "stderr",
          "text": [
            "\rMedicine:  88%|████████▊ | 116/132 [02:48<00:19,  1.21s/it]"
          ]
        },
        {
          "output_type": "stream",
          "name": "stdout",
          "text": [
            "1/1 [==============================] - 0s 47ms/step\n",
            "3/3 [==============================] - 0s 60ms/step\n"
          ]
        },
        {
          "output_type": "stream",
          "name": "stderr",
          "text": [
            "\rMedicine:  89%|████████▊ | 117/132 [02:50<00:17,  1.19s/it]"
          ]
        },
        {
          "output_type": "stream",
          "name": "stdout",
          "text": [
            "1/1 [==============================] - 0s 34ms/step\n",
            "3/3 [==============================] - 0s 43ms/step\n"
          ]
        },
        {
          "output_type": "stream",
          "name": "stderr",
          "text": [
            "\rMedicine:  89%|████████▉ | 118/132 [02:51<00:15,  1.14s/it]"
          ]
        },
        {
          "output_type": "stream",
          "name": "stdout",
          "text": [
            "1/1 [==============================] - 0s 49ms/step\n",
            "2/2 [==============================] - 0s 68ms/step\n"
          ]
        },
        {
          "output_type": "stream",
          "name": "stderr",
          "text": [
            "\rMedicine:  90%|█████████ | 119/132 [02:52<00:15,  1.22s/it]"
          ]
        },
        {
          "output_type": "stream",
          "name": "stdout",
          "text": [
            "1/1 [==============================] - 0s 51ms/step\n",
            "2/2 [==============================] - 0s 37ms/step\n"
          ]
        },
        {
          "output_type": "stream",
          "name": "stderr",
          "text": [
            "\rMedicine:  91%|█████████ | 120/132 [02:53<00:15,  1.26s/it]"
          ]
        },
        {
          "output_type": "stream",
          "name": "stdout",
          "text": [
            "1/1 [==============================] - 0s 53ms/step\n",
            "2/2 [==============================] - 0s 59ms/step\n"
          ]
        },
        {
          "output_type": "stream",
          "name": "stderr",
          "text": [
            "\rMedicine:  92%|█████████▏| 121/132 [02:55<00:14,  1.33s/it]"
          ]
        },
        {
          "output_type": "stream",
          "name": "stdout",
          "text": [
            "1/1 [==============================] - 0s 50ms/step\n",
            "7/7 [==============================] - 0s 59ms/step\n"
          ]
        },
        {
          "output_type": "stream",
          "name": "stderr",
          "text": [
            "\rMedicine:  92%|█████████▏| 122/132 [02:57<00:16,  1.63s/it]"
          ]
        },
        {
          "output_type": "stream",
          "name": "stdout",
          "text": [
            "1/1 [==============================] - 0s 52ms/step\n",
            "1/1 [==============================] - 0s 53ms/step\n"
          ]
        },
        {
          "output_type": "stream",
          "name": "stderr",
          "text": [
            "\rMedicine:  93%|█████████▎| 123/132 [02:58<00:12,  1.36s/it]"
          ]
        },
        {
          "output_type": "stream",
          "name": "stdout",
          "text": [
            "1/1 [==============================] - 0s 49ms/step\n",
            "2/2 [==============================] - 0s 58ms/step\n"
          ]
        },
        {
          "output_type": "stream",
          "name": "stderr",
          "text": [
            "\rMedicine:  94%|█████████▍| 124/132 [02:59<00:09,  1.25s/it]"
          ]
        },
        {
          "output_type": "stream",
          "name": "stdout",
          "text": [
            "1/1 [==============================] - 0s 35ms/step\n",
            "3/3 [==============================] - 0s 38ms/step\n"
          ]
        },
        {
          "output_type": "stream",
          "name": "stderr",
          "text": [
            "\rMedicine:  95%|█████████▍| 125/132 [03:00<00:08,  1.17s/it]"
          ]
        },
        {
          "output_type": "stream",
          "name": "stdout",
          "text": [
            "1/1 [==============================] - 0s 37ms/step\n",
            "4/4 [==============================] - 0s 52ms/step\n"
          ]
        },
        {
          "output_type": "stream",
          "name": "stderr",
          "text": [
            "\rMedicine:  95%|█████████▌| 126/132 [03:01<00:07,  1.21s/it]"
          ]
        },
        {
          "output_type": "stream",
          "name": "stdout",
          "text": [
            "1/1 [==============================] - 0s 39ms/step\n",
            "4/4 [==============================] - 0s 53ms/step\n"
          ]
        },
        {
          "output_type": "stream",
          "name": "stderr",
          "text": [
            "\rMedicine:  96%|█████████▌| 127/132 [03:02<00:06,  1.21s/it]"
          ]
        },
        {
          "output_type": "stream",
          "name": "stdout",
          "text": [
            "1/1 [==============================] - 0s 48ms/step\n",
            "2/2 [==============================] - 0s 53ms/step\n"
          ]
        },
        {
          "output_type": "stream",
          "name": "stderr",
          "text": [
            "\rMedicine:  97%|█████████▋| 128/132 [03:03<00:04,  1.13s/it]"
          ]
        },
        {
          "output_type": "stream",
          "name": "stdout",
          "text": [
            "1/1 [==============================] - 0s 34ms/step\n",
            "3/3 [==============================] - 0s 54ms/step\n"
          ]
        },
        {
          "output_type": "stream",
          "name": "stderr",
          "text": [
            "\rMedicine:  98%|█████████▊| 129/132 [03:04<00:03,  1.10s/it]"
          ]
        },
        {
          "output_type": "stream",
          "name": "stdout",
          "text": [
            "1/1 [==============================] - 0s 34ms/step\n",
            "3/3 [==============================] - 0s 57ms/step\n"
          ]
        },
        {
          "output_type": "stream",
          "name": "stderr",
          "text": [
            "\rMedicine:  98%|█████████▊| 130/132 [03:06<00:02,  1.21s/it]"
          ]
        },
        {
          "output_type": "stream",
          "name": "stdout",
          "text": [
            "1/1 [==============================] - 0s 48ms/step\n",
            "3/3 [==============================] - 0s 44ms/step\n"
          ]
        },
        {
          "output_type": "stream",
          "name": "stderr",
          "text": [
            "\rMedicine:  99%|█████████▉| 131/132 [03:07<00:01,  1.32s/it]"
          ]
        },
        {
          "output_type": "stream",
          "name": "stdout",
          "text": [
            "1/1 [==============================] - 0s 50ms/step\n",
            "3/3 [==============================] - 0s 48ms/step\n"
          ]
        },
        {
          "output_type": "stream",
          "name": "stderr",
          "text": [
            "Medicine: 100%|██████████| 132/132 [03:09<00:00,  1.43s/it]\n"
          ]
        }
      ]
    },
    {
      "cell_type": "code",
      "source": [
        "allMedicine"
      ],
      "metadata": {
        "colab": {
          "base_uri": "https://localhost:8080/",
          "height": 175
        },
        "id": "OYQKBid6DCDQ",
        "outputId": "e07e0b3a-5a79-40b5-b178-f7f1749ea55e"
      },
      "execution_count": null,
      "outputs": [
        {
          "output_type": "error",
          "ename": "NameError",
          "evalue": "ignored",
          "traceback": [
            "\u001b[0;31m---------------------------------------------------------------------------\u001b[0m",
            "\u001b[0;31mNameError\u001b[0m                                 Traceback (most recent call last)",
            "\u001b[0;32m<ipython-input-8-edb5e389e708>\u001b[0m in \u001b[0;36m<cell line: 1>\u001b[0;34m()\u001b[0m\n\u001b[0;32m----> 1\u001b[0;31m \u001b[0mallMedicine\u001b[0m\u001b[0;34m\u001b[0m\u001b[0;34m\u001b[0m\u001b[0m\n\u001b[0m",
            "\u001b[0;31mNameError\u001b[0m: name 'allMedicine' is not defined"
          ]
        }
      ]
    },
    {
      "cell_type": "code",
      "source": [
        "allMedicine.shape"
      ],
      "metadata": {
        "colab": {
          "base_uri": "https://localhost:8080/"
        },
        "id": "-h_Ym2sADJZR",
        "outputId": "aa26ad4d-7eef-42b6-d064-3c681c5a7e96"
      },
      "execution_count": null,
      "outputs": [
        {
          "output_type": "execute_result",
          "data": {
            "text/plain": [
              "(5722, 2)"
            ]
          },
          "metadata": {},
          "execution_count": 10
        }
      ]
    },
    {
      "cell_type": "code",
      "source": [
        "allMedicine.to_csv(f'{dataset_path}/data.csv', index=False)"
      ],
      "metadata": {
        "id": "-pBUii9-AtJM"
      },
      "execution_count": null,
      "outputs": []
    },
    {
      "cell_type": "markdown",
      "source": [
        "Preprocessing"
      ],
      "metadata": {
        "id": "O8pslrqFl3xt"
      }
    },
    {
      "cell_type": "code",
      "source": [
        "import string\n",
        "import re"
      ],
      "metadata": {
        "id": "gdnGWXuol3AM"
      },
      "execution_count": null,
      "outputs": []
    },
    {
      "cell_type": "code",
      "source": [
        "with open(f'{dataset_path}/data.txt',mode='r',encoding='utf8',errors='ignore') as f:\n",
        "    text = f.read()"
      ],
      "metadata": {
        "id": "3l4WbbiCl8ws"
      },
      "execution_count": null,
      "outputs": []
    },
    {
      "cell_type": "code",
      "source": [
        "data = list(map(lambda x:x.split('\\t'),text.split('\\n')))"
      ],
      "metadata": {
        "id": "_JuGcjk0mZ_0"
      },
      "execution_count": null,
      "outputs": []
    },
    {
      "cell_type": "code",
      "source": [
        "df = pd.DataFrame(data[1:],columns=data[0])"
      ],
      "metadata": {
        "id": "UgldicKHok4c"
      },
      "execution_count": null,
      "outputs": []
    },
    {
      "cell_type": "code",
      "source": [
        "df.head(10)"
      ],
      "metadata": {
        "colab": {
          "base_uri": "https://localhost:8080/",
          "height": 363
        },
        "id": "DpYhKpCzon1i",
        "outputId": "4f9459a4-2578-4900-ffef-2e0787f13adb"
      },
      "execution_count": null,
      "outputs": [
        {
          "output_type": "execute_result",
          "data": {
            "text/plain": [
              "           id         text     tag\n",
              "0  image1.jpg       sanmol  B-NAME\n",
              "1  image1.jpg        forte  I-NAME\n",
              "2  image1.jpg  paracetamol   B-ING\n",
              "3  image1.jpg       tablet  B-TYPE\n",
              "4  image1.jpg      penurun   B-DES\n",
              "5  image1.jpg        panas   I-DES\n",
              "6  image1.jpg       pereda   B-DES\n",
              "7  image1.jpg        nyeri   I-DES\n",
              "8  image1.jpg         isis       O\n",
              "9  image1.jpg            4       O"
            ],
            "text/html": [
              "\n",
              "  <div id=\"df-691b9365-0710-44f5-8643-f9c68bbd80e1\" class=\"colab-df-container\">\n",
              "    <div>\n",
              "<style scoped>\n",
              "    .dataframe tbody tr th:only-of-type {\n",
              "        vertical-align: middle;\n",
              "    }\n",
              "\n",
              "    .dataframe tbody tr th {\n",
              "        vertical-align: top;\n",
              "    }\n",
              "\n",
              "    .dataframe thead th {\n",
              "        text-align: right;\n",
              "    }\n",
              "</style>\n",
              "<table border=\"1\" class=\"dataframe\">\n",
              "  <thead>\n",
              "    <tr style=\"text-align: right;\">\n",
              "      <th></th>\n",
              "      <th>id</th>\n",
              "      <th>text</th>\n",
              "      <th>tag</th>\n",
              "    </tr>\n",
              "  </thead>\n",
              "  <tbody>\n",
              "    <tr>\n",
              "      <th>0</th>\n",
              "      <td>image1.jpg</td>\n",
              "      <td>sanmol</td>\n",
              "      <td>B-NAME</td>\n",
              "    </tr>\n",
              "    <tr>\n",
              "      <th>1</th>\n",
              "      <td>image1.jpg</td>\n",
              "      <td>forte</td>\n",
              "      <td>I-NAME</td>\n",
              "    </tr>\n",
              "    <tr>\n",
              "      <th>2</th>\n",
              "      <td>image1.jpg</td>\n",
              "      <td>paracetamol</td>\n",
              "      <td>B-ING</td>\n",
              "    </tr>\n",
              "    <tr>\n",
              "      <th>3</th>\n",
              "      <td>image1.jpg</td>\n",
              "      <td>tablet</td>\n",
              "      <td>B-TYPE</td>\n",
              "    </tr>\n",
              "    <tr>\n",
              "      <th>4</th>\n",
              "      <td>image1.jpg</td>\n",
              "      <td>penurun</td>\n",
              "      <td>B-DES</td>\n",
              "    </tr>\n",
              "    <tr>\n",
              "      <th>5</th>\n",
              "      <td>image1.jpg</td>\n",
              "      <td>panas</td>\n",
              "      <td>I-DES</td>\n",
              "    </tr>\n",
              "    <tr>\n",
              "      <th>6</th>\n",
              "      <td>image1.jpg</td>\n",
              "      <td>pereda</td>\n",
              "      <td>B-DES</td>\n",
              "    </tr>\n",
              "    <tr>\n",
              "      <th>7</th>\n",
              "      <td>image1.jpg</td>\n",
              "      <td>nyeri</td>\n",
              "      <td>I-DES</td>\n",
              "    </tr>\n",
              "    <tr>\n",
              "      <th>8</th>\n",
              "      <td>image1.jpg</td>\n",
              "      <td>isis</td>\n",
              "      <td>O</td>\n",
              "    </tr>\n",
              "    <tr>\n",
              "      <th>9</th>\n",
              "      <td>image1.jpg</td>\n",
              "      <td>4</td>\n",
              "      <td>O</td>\n",
              "    </tr>\n",
              "  </tbody>\n",
              "</table>\n",
              "</div>\n",
              "    <div class=\"colab-df-buttons\">\n",
              "\n",
              "  <div class=\"colab-df-container\">\n",
              "    <button class=\"colab-df-convert\" onclick=\"convertToInteractive('df-691b9365-0710-44f5-8643-f9c68bbd80e1')\"\n",
              "            title=\"Convert this dataframe to an interactive table.\"\n",
              "            style=\"display:none;\">\n",
              "\n",
              "  <svg xmlns=\"http://www.w3.org/2000/svg\" height=\"24px\" viewBox=\"0 -960 960 960\">\n",
              "    <path d=\"M120-120v-720h720v720H120Zm60-500h600v-160H180v160Zm220 220h160v-160H400v160Zm0 220h160v-160H400v160ZM180-400h160v-160H180v160Zm440 0h160v-160H620v160ZM180-180h160v-160H180v160Zm440 0h160v-160H620v160Z\"/>\n",
              "  </svg>\n",
              "    </button>\n",
              "\n",
              "  <style>\n",
              "    .colab-df-container {\n",
              "      display:flex;\n",
              "      gap: 12px;\n",
              "    }\n",
              "\n",
              "    .colab-df-convert {\n",
              "      background-color: #E8F0FE;\n",
              "      border: none;\n",
              "      border-radius: 50%;\n",
              "      cursor: pointer;\n",
              "      display: none;\n",
              "      fill: #1967D2;\n",
              "      height: 32px;\n",
              "      padding: 0 0 0 0;\n",
              "      width: 32px;\n",
              "    }\n",
              "\n",
              "    .colab-df-convert:hover {\n",
              "      background-color: #E2EBFA;\n",
              "      box-shadow: 0px 1px 2px rgba(60, 64, 67, 0.3), 0px 1px 3px 1px rgba(60, 64, 67, 0.15);\n",
              "      fill: #174EA6;\n",
              "    }\n",
              "\n",
              "    .colab-df-buttons div {\n",
              "      margin-bottom: 4px;\n",
              "    }\n",
              "\n",
              "    [theme=dark] .colab-df-convert {\n",
              "      background-color: #3B4455;\n",
              "      fill: #D2E3FC;\n",
              "    }\n",
              "\n",
              "    [theme=dark] .colab-df-convert:hover {\n",
              "      background-color: #434B5C;\n",
              "      box-shadow: 0px 1px 3px 1px rgba(0, 0, 0, 0.15);\n",
              "      filter: drop-shadow(0px 1px 2px rgba(0, 0, 0, 0.3));\n",
              "      fill: #FFFFFF;\n",
              "    }\n",
              "  </style>\n",
              "\n",
              "    <script>\n",
              "      const buttonEl =\n",
              "        document.querySelector('#df-691b9365-0710-44f5-8643-f9c68bbd80e1 button.colab-df-convert');\n",
              "      buttonEl.style.display =\n",
              "        google.colab.kernel.accessAllowed ? 'block' : 'none';\n",
              "\n",
              "      async function convertToInteractive(key) {\n",
              "        const element = document.querySelector('#df-691b9365-0710-44f5-8643-f9c68bbd80e1');\n",
              "        const dataTable =\n",
              "          await google.colab.kernel.invokeFunction('convertToInteractive',\n",
              "                                                    [key], {});\n",
              "        if (!dataTable) return;\n",
              "\n",
              "        const docLinkHtml = 'Like what you see? Visit the ' +\n",
              "          '<a target=\"_blank\" href=https://colab.research.google.com/notebooks/data_table.ipynb>data table notebook</a>'\n",
              "          + ' to learn more about interactive tables.';\n",
              "        element.innerHTML = '';\n",
              "        dataTable['output_type'] = 'display_data';\n",
              "        await google.colab.output.renderOutput(dataTable, element);\n",
              "        const docLink = document.createElement('div');\n",
              "        docLink.innerHTML = docLinkHtml;\n",
              "        element.appendChild(docLink);\n",
              "      }\n",
              "    </script>\n",
              "  </div>\n",
              "\n",
              "\n",
              "<div id=\"df-7bf396d8-40c2-4dc5-926a-25d5b8cafa41\">\n",
              "  <button class=\"colab-df-quickchart\" onclick=\"quickchart('df-7bf396d8-40c2-4dc5-926a-25d5b8cafa41')\"\n",
              "            title=\"Suggest charts\"\n",
              "            style=\"display:none;\">\n",
              "\n",
              "<svg xmlns=\"http://www.w3.org/2000/svg\" height=\"24px\"viewBox=\"0 0 24 24\"\n",
              "     width=\"24px\">\n",
              "    <g>\n",
              "        <path d=\"M19 3H5c-1.1 0-2 .9-2 2v14c0 1.1.9 2 2 2h14c1.1 0 2-.9 2-2V5c0-1.1-.9-2-2-2zM9 17H7v-7h2v7zm4 0h-2V7h2v10zm4 0h-2v-4h2v4z\"/>\n",
              "    </g>\n",
              "</svg>\n",
              "  </button>\n",
              "\n",
              "<style>\n",
              "  .colab-df-quickchart {\n",
              "      --bg-color: #E8F0FE;\n",
              "      --fill-color: #1967D2;\n",
              "      --hover-bg-color: #E2EBFA;\n",
              "      --hover-fill-color: #174EA6;\n",
              "      --disabled-fill-color: #AAA;\n",
              "      --disabled-bg-color: #DDD;\n",
              "  }\n",
              "\n",
              "  [theme=dark] .colab-df-quickchart {\n",
              "      --bg-color: #3B4455;\n",
              "      --fill-color: #D2E3FC;\n",
              "      --hover-bg-color: #434B5C;\n",
              "      --hover-fill-color: #FFFFFF;\n",
              "      --disabled-bg-color: #3B4455;\n",
              "      --disabled-fill-color: #666;\n",
              "  }\n",
              "\n",
              "  .colab-df-quickchart {\n",
              "    background-color: var(--bg-color);\n",
              "    border: none;\n",
              "    border-radius: 50%;\n",
              "    cursor: pointer;\n",
              "    display: none;\n",
              "    fill: var(--fill-color);\n",
              "    height: 32px;\n",
              "    padding: 0;\n",
              "    width: 32px;\n",
              "  }\n",
              "\n",
              "  .colab-df-quickchart:hover {\n",
              "    background-color: var(--hover-bg-color);\n",
              "    box-shadow: 0 1px 2px rgba(60, 64, 67, 0.3), 0 1px 3px 1px rgba(60, 64, 67, 0.15);\n",
              "    fill: var(--button-hover-fill-color);\n",
              "  }\n",
              "\n",
              "  .colab-df-quickchart-complete:disabled,\n",
              "  .colab-df-quickchart-complete:disabled:hover {\n",
              "    background-color: var(--disabled-bg-color);\n",
              "    fill: var(--disabled-fill-color);\n",
              "    box-shadow: none;\n",
              "  }\n",
              "\n",
              "  .colab-df-spinner {\n",
              "    border: 2px solid var(--fill-color);\n",
              "    border-color: transparent;\n",
              "    border-bottom-color: var(--fill-color);\n",
              "    animation:\n",
              "      spin 1s steps(1) infinite;\n",
              "  }\n",
              "\n",
              "  @keyframes spin {\n",
              "    0% {\n",
              "      border-color: transparent;\n",
              "      border-bottom-color: var(--fill-color);\n",
              "      border-left-color: var(--fill-color);\n",
              "    }\n",
              "    20% {\n",
              "      border-color: transparent;\n",
              "      border-left-color: var(--fill-color);\n",
              "      border-top-color: var(--fill-color);\n",
              "    }\n",
              "    30% {\n",
              "      border-color: transparent;\n",
              "      border-left-color: var(--fill-color);\n",
              "      border-top-color: var(--fill-color);\n",
              "      border-right-color: var(--fill-color);\n",
              "    }\n",
              "    40% {\n",
              "      border-color: transparent;\n",
              "      border-right-color: var(--fill-color);\n",
              "      border-top-color: var(--fill-color);\n",
              "    }\n",
              "    60% {\n",
              "      border-color: transparent;\n",
              "      border-right-color: var(--fill-color);\n",
              "    }\n",
              "    80% {\n",
              "      border-color: transparent;\n",
              "      border-right-color: var(--fill-color);\n",
              "      border-bottom-color: var(--fill-color);\n",
              "    }\n",
              "    90% {\n",
              "      border-color: transparent;\n",
              "      border-bottom-color: var(--fill-color);\n",
              "    }\n",
              "  }\n",
              "</style>\n",
              "\n",
              "  <script>\n",
              "    async function quickchart(key) {\n",
              "      const quickchartButtonEl =\n",
              "        document.querySelector('#' + key + ' button');\n",
              "      quickchartButtonEl.disabled = true;  // To prevent multiple clicks.\n",
              "      quickchartButtonEl.classList.add('colab-df-spinner');\n",
              "      try {\n",
              "        const charts = await google.colab.kernel.invokeFunction(\n",
              "            'suggestCharts', [key], {});\n",
              "      } catch (error) {\n",
              "        console.error('Error during call to suggestCharts:', error);\n",
              "      }\n",
              "      quickchartButtonEl.classList.remove('colab-df-spinner');\n",
              "      quickchartButtonEl.classList.add('colab-df-quickchart-complete');\n",
              "    }\n",
              "    (() => {\n",
              "      let quickchartButtonEl =\n",
              "        document.querySelector('#df-7bf396d8-40c2-4dc5-926a-25d5b8cafa41 button');\n",
              "      quickchartButtonEl.style.display =\n",
              "        google.colab.kernel.accessAllowed ? 'block' : 'none';\n",
              "    })();\n",
              "  </script>\n",
              "</div>\n",
              "    </div>\n",
              "  </div>\n"
            ]
          },
          "metadata": {},
          "execution_count": 11
        }
      ]
    },
    {
      "cell_type": "markdown",
      "source": [
        "Cleaning Text"
      ],
      "metadata": {
        "id": "6C6Coxj_orQ7"
      }
    },
    {
      "cell_type": "code",
      "source": [
        "whitespace = string.whitespace\n",
        "punctuation = \"!#$%&\\'()*+:;<=>?[\\\\]^`{|}~\"\n",
        "tableWhitespace = str.maketrans('','',whitespace)\n",
        "tablePunctuation = str.maketrans('','',punctuation)\n",
        "def cleanText(txt):\n",
        "  text = str(txt)\n",
        "  text = text.lower()\n",
        "  removewhitespace = text.translate(tableWhitespace)\n",
        "  removepunctuation = removewhitespace.translate(tablePunctuation)\n",
        "\n",
        "  return str(removepunctuation)"
      ],
      "metadata": {
        "id": "-AOOmfOzoo1D"
      },
      "execution_count": null,
      "outputs": []
    },
    {
      "cell_type": "code",
      "source": [
        "df['text'] = df['text'].apply(cleanText)"
      ],
      "metadata": {
        "id": "76USvZVgowO5"
      },
      "execution_count": null,
      "outputs": []
    },
    {
      "cell_type": "code",
      "source": [
        "dataClean = df.query(\"text != '' \")\n",
        "dataClean.dropna(inplace=True)"
      ],
      "metadata": {
        "id": "ivYxHAMKoxhF"
      },
      "execution_count": null,
      "outputs": []
    },
    {
      "cell_type": "code",
      "source": [
        "dataClean.head(10)"
      ],
      "metadata": {
        "colab": {
          "base_uri": "https://localhost:8080/",
          "height": 363
        },
        "id": "TMyOZtbFo0By",
        "outputId": "fa3d0f3c-0283-49b3-bd04-7ec46495553d"
      },
      "execution_count": null,
      "outputs": [
        {
          "output_type": "execute_result",
          "data": {
            "text/plain": [
              "           id         text     tag\n",
              "0  image1.jpg       sanmol  B-NAME\n",
              "1  image1.jpg        forte  I-NAME\n",
              "2  image1.jpg  paracetamol   B-ING\n",
              "3  image1.jpg       tablet  B-TYPE\n",
              "4  image1.jpg      penurun   B-DES\n",
              "5  image1.jpg        panas   I-DES\n",
              "6  image1.jpg       pereda   B-DES\n",
              "7  image1.jpg        nyeri   I-DES\n",
              "8  image1.jpg         isis       O\n",
              "9  image1.jpg            4       O"
            ],
            "text/html": [
              "\n",
              "  <div id=\"df-12a55790-3ff9-4eca-8bf1-07a6cb38e0f0\" class=\"colab-df-container\">\n",
              "    <div>\n",
              "<style scoped>\n",
              "    .dataframe tbody tr th:only-of-type {\n",
              "        vertical-align: middle;\n",
              "    }\n",
              "\n",
              "    .dataframe tbody tr th {\n",
              "        vertical-align: top;\n",
              "    }\n",
              "\n",
              "    .dataframe thead th {\n",
              "        text-align: right;\n",
              "    }\n",
              "</style>\n",
              "<table border=\"1\" class=\"dataframe\">\n",
              "  <thead>\n",
              "    <tr style=\"text-align: right;\">\n",
              "      <th></th>\n",
              "      <th>id</th>\n",
              "      <th>text</th>\n",
              "      <th>tag</th>\n",
              "    </tr>\n",
              "  </thead>\n",
              "  <tbody>\n",
              "    <tr>\n",
              "      <th>0</th>\n",
              "      <td>image1.jpg</td>\n",
              "      <td>sanmol</td>\n",
              "      <td>B-NAME</td>\n",
              "    </tr>\n",
              "    <tr>\n",
              "      <th>1</th>\n",
              "      <td>image1.jpg</td>\n",
              "      <td>forte</td>\n",
              "      <td>I-NAME</td>\n",
              "    </tr>\n",
              "    <tr>\n",
              "      <th>2</th>\n",
              "      <td>image1.jpg</td>\n",
              "      <td>paracetamol</td>\n",
              "      <td>B-ING</td>\n",
              "    </tr>\n",
              "    <tr>\n",
              "      <th>3</th>\n",
              "      <td>image1.jpg</td>\n",
              "      <td>tablet</td>\n",
              "      <td>B-TYPE</td>\n",
              "    </tr>\n",
              "    <tr>\n",
              "      <th>4</th>\n",
              "      <td>image1.jpg</td>\n",
              "      <td>penurun</td>\n",
              "      <td>B-DES</td>\n",
              "    </tr>\n",
              "    <tr>\n",
              "      <th>5</th>\n",
              "      <td>image1.jpg</td>\n",
              "      <td>panas</td>\n",
              "      <td>I-DES</td>\n",
              "    </tr>\n",
              "    <tr>\n",
              "      <th>6</th>\n",
              "      <td>image1.jpg</td>\n",
              "      <td>pereda</td>\n",
              "      <td>B-DES</td>\n",
              "    </tr>\n",
              "    <tr>\n",
              "      <th>7</th>\n",
              "      <td>image1.jpg</td>\n",
              "      <td>nyeri</td>\n",
              "      <td>I-DES</td>\n",
              "    </tr>\n",
              "    <tr>\n",
              "      <th>8</th>\n",
              "      <td>image1.jpg</td>\n",
              "      <td>isis</td>\n",
              "      <td>O</td>\n",
              "    </tr>\n",
              "    <tr>\n",
              "      <th>9</th>\n",
              "      <td>image1.jpg</td>\n",
              "      <td>4</td>\n",
              "      <td>O</td>\n",
              "    </tr>\n",
              "  </tbody>\n",
              "</table>\n",
              "</div>\n",
              "    <div class=\"colab-df-buttons\">\n",
              "\n",
              "  <div class=\"colab-df-container\">\n",
              "    <button class=\"colab-df-convert\" onclick=\"convertToInteractive('df-12a55790-3ff9-4eca-8bf1-07a6cb38e0f0')\"\n",
              "            title=\"Convert this dataframe to an interactive table.\"\n",
              "            style=\"display:none;\">\n",
              "\n",
              "  <svg xmlns=\"http://www.w3.org/2000/svg\" height=\"24px\" viewBox=\"0 -960 960 960\">\n",
              "    <path d=\"M120-120v-720h720v720H120Zm60-500h600v-160H180v160Zm220 220h160v-160H400v160Zm0 220h160v-160H400v160ZM180-400h160v-160H180v160Zm440 0h160v-160H620v160ZM180-180h160v-160H180v160Zm440 0h160v-160H620v160Z\"/>\n",
              "  </svg>\n",
              "    </button>\n",
              "\n",
              "  <style>\n",
              "    .colab-df-container {\n",
              "      display:flex;\n",
              "      gap: 12px;\n",
              "    }\n",
              "\n",
              "    .colab-df-convert {\n",
              "      background-color: #E8F0FE;\n",
              "      border: none;\n",
              "      border-radius: 50%;\n",
              "      cursor: pointer;\n",
              "      display: none;\n",
              "      fill: #1967D2;\n",
              "      height: 32px;\n",
              "      padding: 0 0 0 0;\n",
              "      width: 32px;\n",
              "    }\n",
              "\n",
              "    .colab-df-convert:hover {\n",
              "      background-color: #E2EBFA;\n",
              "      box-shadow: 0px 1px 2px rgba(60, 64, 67, 0.3), 0px 1px 3px 1px rgba(60, 64, 67, 0.15);\n",
              "      fill: #174EA6;\n",
              "    }\n",
              "\n",
              "    .colab-df-buttons div {\n",
              "      margin-bottom: 4px;\n",
              "    }\n",
              "\n",
              "    [theme=dark] .colab-df-convert {\n",
              "      background-color: #3B4455;\n",
              "      fill: #D2E3FC;\n",
              "    }\n",
              "\n",
              "    [theme=dark] .colab-df-convert:hover {\n",
              "      background-color: #434B5C;\n",
              "      box-shadow: 0px 1px 3px 1px rgba(0, 0, 0, 0.15);\n",
              "      filter: drop-shadow(0px 1px 2px rgba(0, 0, 0, 0.3));\n",
              "      fill: #FFFFFF;\n",
              "    }\n",
              "  </style>\n",
              "\n",
              "    <script>\n",
              "      const buttonEl =\n",
              "        document.querySelector('#df-12a55790-3ff9-4eca-8bf1-07a6cb38e0f0 button.colab-df-convert');\n",
              "      buttonEl.style.display =\n",
              "        google.colab.kernel.accessAllowed ? 'block' : 'none';\n",
              "\n",
              "      async function convertToInteractive(key) {\n",
              "        const element = document.querySelector('#df-12a55790-3ff9-4eca-8bf1-07a6cb38e0f0');\n",
              "        const dataTable =\n",
              "          await google.colab.kernel.invokeFunction('convertToInteractive',\n",
              "                                                    [key], {});\n",
              "        if (!dataTable) return;\n",
              "\n",
              "        const docLinkHtml = 'Like what you see? Visit the ' +\n",
              "          '<a target=\"_blank\" href=https://colab.research.google.com/notebooks/data_table.ipynb>data table notebook</a>'\n",
              "          + ' to learn more about interactive tables.';\n",
              "        element.innerHTML = '';\n",
              "        dataTable['output_type'] = 'display_data';\n",
              "        await google.colab.output.renderOutput(dataTable, element);\n",
              "        const docLink = document.createElement('div');\n",
              "        docLink.innerHTML = docLinkHtml;\n",
              "        element.appendChild(docLink);\n",
              "      }\n",
              "    </script>\n",
              "  </div>\n",
              "\n",
              "\n",
              "<div id=\"df-af9ae909-ec60-4a59-a952-12497dac4fcd\">\n",
              "  <button class=\"colab-df-quickchart\" onclick=\"quickchart('df-af9ae909-ec60-4a59-a952-12497dac4fcd')\"\n",
              "            title=\"Suggest charts\"\n",
              "            style=\"display:none;\">\n",
              "\n",
              "<svg xmlns=\"http://www.w3.org/2000/svg\" height=\"24px\"viewBox=\"0 0 24 24\"\n",
              "     width=\"24px\">\n",
              "    <g>\n",
              "        <path d=\"M19 3H5c-1.1 0-2 .9-2 2v14c0 1.1.9 2 2 2h14c1.1 0 2-.9 2-2V5c0-1.1-.9-2-2-2zM9 17H7v-7h2v7zm4 0h-2V7h2v10zm4 0h-2v-4h2v4z\"/>\n",
              "    </g>\n",
              "</svg>\n",
              "  </button>\n",
              "\n",
              "<style>\n",
              "  .colab-df-quickchart {\n",
              "      --bg-color: #E8F0FE;\n",
              "      --fill-color: #1967D2;\n",
              "      --hover-bg-color: #E2EBFA;\n",
              "      --hover-fill-color: #174EA6;\n",
              "      --disabled-fill-color: #AAA;\n",
              "      --disabled-bg-color: #DDD;\n",
              "  }\n",
              "\n",
              "  [theme=dark] .colab-df-quickchart {\n",
              "      --bg-color: #3B4455;\n",
              "      --fill-color: #D2E3FC;\n",
              "      --hover-bg-color: #434B5C;\n",
              "      --hover-fill-color: #FFFFFF;\n",
              "      --disabled-bg-color: #3B4455;\n",
              "      --disabled-fill-color: #666;\n",
              "  }\n",
              "\n",
              "  .colab-df-quickchart {\n",
              "    background-color: var(--bg-color);\n",
              "    border: none;\n",
              "    border-radius: 50%;\n",
              "    cursor: pointer;\n",
              "    display: none;\n",
              "    fill: var(--fill-color);\n",
              "    height: 32px;\n",
              "    padding: 0;\n",
              "    width: 32px;\n",
              "  }\n",
              "\n",
              "  .colab-df-quickchart:hover {\n",
              "    background-color: var(--hover-bg-color);\n",
              "    box-shadow: 0 1px 2px rgba(60, 64, 67, 0.3), 0 1px 3px 1px rgba(60, 64, 67, 0.15);\n",
              "    fill: var(--button-hover-fill-color);\n",
              "  }\n",
              "\n",
              "  .colab-df-quickchart-complete:disabled,\n",
              "  .colab-df-quickchart-complete:disabled:hover {\n",
              "    background-color: var(--disabled-bg-color);\n",
              "    fill: var(--disabled-fill-color);\n",
              "    box-shadow: none;\n",
              "  }\n",
              "\n",
              "  .colab-df-spinner {\n",
              "    border: 2px solid var(--fill-color);\n",
              "    border-color: transparent;\n",
              "    border-bottom-color: var(--fill-color);\n",
              "    animation:\n",
              "      spin 1s steps(1) infinite;\n",
              "  }\n",
              "\n",
              "  @keyframes spin {\n",
              "    0% {\n",
              "      border-color: transparent;\n",
              "      border-bottom-color: var(--fill-color);\n",
              "      border-left-color: var(--fill-color);\n",
              "    }\n",
              "    20% {\n",
              "      border-color: transparent;\n",
              "      border-left-color: var(--fill-color);\n",
              "      border-top-color: var(--fill-color);\n",
              "    }\n",
              "    30% {\n",
              "      border-color: transparent;\n",
              "      border-left-color: var(--fill-color);\n",
              "      border-top-color: var(--fill-color);\n",
              "      border-right-color: var(--fill-color);\n",
              "    }\n",
              "    40% {\n",
              "      border-color: transparent;\n",
              "      border-right-color: var(--fill-color);\n",
              "      border-top-color: var(--fill-color);\n",
              "    }\n",
              "    60% {\n",
              "      border-color: transparent;\n",
              "      border-right-color: var(--fill-color);\n",
              "    }\n",
              "    80% {\n",
              "      border-color: transparent;\n",
              "      border-right-color: var(--fill-color);\n",
              "      border-bottom-color: var(--fill-color);\n",
              "    }\n",
              "    90% {\n",
              "      border-color: transparent;\n",
              "      border-bottom-color: var(--fill-color);\n",
              "    }\n",
              "  }\n",
              "</style>\n",
              "\n",
              "  <script>\n",
              "    async function quickchart(key) {\n",
              "      const quickchartButtonEl =\n",
              "        document.querySelector('#' + key + ' button');\n",
              "      quickchartButtonEl.disabled = true;  // To prevent multiple clicks.\n",
              "      quickchartButtonEl.classList.add('colab-df-spinner');\n",
              "      try {\n",
              "        const charts = await google.colab.kernel.invokeFunction(\n",
              "            'suggestCharts', [key], {});\n",
              "      } catch (error) {\n",
              "        console.error('Error during call to suggestCharts:', error);\n",
              "      }\n",
              "      quickchartButtonEl.classList.remove('colab-df-spinner');\n",
              "      quickchartButtonEl.classList.add('colab-df-quickchart-complete');\n",
              "    }\n",
              "    (() => {\n",
              "      let quickchartButtonEl =\n",
              "        document.querySelector('#df-af9ae909-ec60-4a59-a952-12497dac4fcd button');\n",
              "      quickchartButtonEl.style.display =\n",
              "        google.colab.kernel.accessAllowed ? 'block' : 'none';\n",
              "    })();\n",
              "  </script>\n",
              "</div>\n",
              "    </div>\n",
              "  </div>\n"
            ]
          },
          "metadata": {},
          "execution_count": 18
        }
      ]
    },
    {
      "cell_type": "markdown",
      "source": [
        "#Training with TensorFlow"
      ],
      "metadata": {
        "id": "TKFlAl8B0saB"
      }
    },
    {
      "cell_type": "code",
      "source": [
        "grouped_data = dataClean.groupby('id').agg({'text': ' '.join, 'tag': list}).reset_index()\n",
        "grouped_data"
      ],
      "metadata": {
        "colab": {
          "base_uri": "https://localhost:8080/",
          "height": 424
        },
        "id": "ieeDjJpI2LBO",
        "outputId": "9c2c1cd1-455e-4f24-bb7a-e95ff5a1a02c"
      },
      "execution_count": null,
      "outputs": [
        {
          "output_type": "execute_result",
          "data": {
            "text/plain": [
              "               id                                               text  \\\n",
              "0      image1.jpg  sanmol forte paracetamol tablet penurun panas ...   \n",
              "1     image10.jpg  ptkalbe farma toe bekasi indonesia no dbl b511...   \n",
              "2    image100.jpg  hathhati procold flu bersamaan penggunaan deng...   \n",
              "3    image101.jpg  gsk formula extra untuk sakit kepala panadol e...   \n",
              "4    image102.jpg  sanmol paracetamol penurun panas pereda nyeri ...   \n",
              "..            ...                                                ...   \n",
              "263   image95.jpg  sanmol paracetamol tablet penurun panas pereda...   \n",
              "264   image96.jpg  procold fludbatuk paracetamol dextromethorphon...   \n",
              "265   image97.jpg  procold flu paracetamol phenylephrine hcl chlo...   \n",
              "266   image98.jpg  sanmol paracetamol tablet penurun panas pereda...   \n",
              "267   image99.jpg  sanmol paracetamol tablet penurun panas pereda...   \n",
              "\n",
              "                                                   tag  \n",
              "0    [B-NAME, I-NAME, B-ING, B-TYPE, B-DES, I-DES, ...  \n",
              "1    [O, I-ORG, O, O, O, O, O, O, O, O, O, O, B-TYP...  \n",
              "2    [O, B-NAME, I-NAME, O, O, O, O, O, O, O, O, O,...  \n",
              "3    [O, B-DES, I-DES, I-DES, I-DES, I-DES, B-NAME,...  \n",
              "4    [B-NAME, B-ING, B-DES, I-DES, B-DES, I-DES, B-...  \n",
              "..                                                 ...  \n",
              "263  [B-NAME, B-ING, B-TYPE, B-DES, I-DES, B-DES, I...  \n",
              "264  [B-NAME, I-NAME, B-ING, B-ING, I-ING, B-ING, I...  \n",
              "265  [B-NAME, I-NAME, B-ING, B-ING, I-ING, B-ING, I...  \n",
              "266  [B-NAME, B-ING, B-TYPE, B-DES, I-DES, B-DES, I...  \n",
              "267  [B-NAME, B-ING, B-TYPE, B-DES, I-DES, B-DES, I...  \n",
              "\n",
              "[268 rows x 3 columns]"
            ],
            "text/html": [
              "\n",
              "  <div id=\"df-851c0e46-dbf8-49b0-b619-95e29845702a\" class=\"colab-df-container\">\n",
              "    <div>\n",
              "<style scoped>\n",
              "    .dataframe tbody tr th:only-of-type {\n",
              "        vertical-align: middle;\n",
              "    }\n",
              "\n",
              "    .dataframe tbody tr th {\n",
              "        vertical-align: top;\n",
              "    }\n",
              "\n",
              "    .dataframe thead th {\n",
              "        text-align: right;\n",
              "    }\n",
              "</style>\n",
              "<table border=\"1\" class=\"dataframe\">\n",
              "  <thead>\n",
              "    <tr style=\"text-align: right;\">\n",
              "      <th></th>\n",
              "      <th>id</th>\n",
              "      <th>text</th>\n",
              "      <th>tag</th>\n",
              "    </tr>\n",
              "  </thead>\n",
              "  <tbody>\n",
              "    <tr>\n",
              "      <th>0</th>\n",
              "      <td>image1.jpg</td>\n",
              "      <td>sanmol forte paracetamol tablet penurun panas ...</td>\n",
              "      <td>[B-NAME, I-NAME, B-ING, B-TYPE, B-DES, I-DES, ...</td>\n",
              "    </tr>\n",
              "    <tr>\n",
              "      <th>1</th>\n",
              "      <td>image10.jpg</td>\n",
              "      <td>ptkalbe farma toe bekasi indonesia no dbl b511...</td>\n",
              "      <td>[O, I-ORG, O, O, O, O, O, O, O, O, O, O, B-TYP...</td>\n",
              "    </tr>\n",
              "    <tr>\n",
              "      <th>2</th>\n",
              "      <td>image100.jpg</td>\n",
              "      <td>hathhati procold flu bersamaan penggunaan deng...</td>\n",
              "      <td>[O, B-NAME, I-NAME, O, O, O, O, O, O, O, O, O,...</td>\n",
              "    </tr>\n",
              "    <tr>\n",
              "      <th>3</th>\n",
              "      <td>image101.jpg</td>\n",
              "      <td>gsk formula extra untuk sakit kepala panadol e...</td>\n",
              "      <td>[O, B-DES, I-DES, I-DES, I-DES, I-DES, B-NAME,...</td>\n",
              "    </tr>\n",
              "    <tr>\n",
              "      <th>4</th>\n",
              "      <td>image102.jpg</td>\n",
              "      <td>sanmol paracetamol penurun panas pereda nyeri ...</td>\n",
              "      <td>[B-NAME, B-ING, B-DES, I-DES, B-DES, I-DES, B-...</td>\n",
              "    </tr>\n",
              "    <tr>\n",
              "      <th>...</th>\n",
              "      <td>...</td>\n",
              "      <td>...</td>\n",
              "      <td>...</td>\n",
              "    </tr>\n",
              "    <tr>\n",
              "      <th>263</th>\n",
              "      <td>image95.jpg</td>\n",
              "      <td>sanmol paracetamol tablet penurun panas pereda...</td>\n",
              "      <td>[B-NAME, B-ING, B-TYPE, B-DES, I-DES, B-DES, I...</td>\n",
              "    </tr>\n",
              "    <tr>\n",
              "      <th>264</th>\n",
              "      <td>image96.jpg</td>\n",
              "      <td>procold fludbatuk paracetamol dextromethorphon...</td>\n",
              "      <td>[B-NAME, I-NAME, B-ING, B-ING, I-ING, B-ING, I...</td>\n",
              "    </tr>\n",
              "    <tr>\n",
              "      <th>265</th>\n",
              "      <td>image97.jpg</td>\n",
              "      <td>procold flu paracetamol phenylephrine hcl chlo...</td>\n",
              "      <td>[B-NAME, I-NAME, B-ING, B-ING, I-ING, B-ING, I...</td>\n",
              "    </tr>\n",
              "    <tr>\n",
              "      <th>266</th>\n",
              "      <td>image98.jpg</td>\n",
              "      <td>sanmol paracetamol tablet penurun panas pereda...</td>\n",
              "      <td>[B-NAME, B-ING, B-TYPE, B-DES, I-DES, B-DES, I...</td>\n",
              "    </tr>\n",
              "    <tr>\n",
              "      <th>267</th>\n",
              "      <td>image99.jpg</td>\n",
              "      <td>sanmol paracetamol tablet penurun panas pereda...</td>\n",
              "      <td>[B-NAME, B-ING, B-TYPE, B-DES, I-DES, B-DES, I...</td>\n",
              "    </tr>\n",
              "  </tbody>\n",
              "</table>\n",
              "<p>268 rows × 3 columns</p>\n",
              "</div>\n",
              "    <div class=\"colab-df-buttons\">\n",
              "\n",
              "  <div class=\"colab-df-container\">\n",
              "    <button class=\"colab-df-convert\" onclick=\"convertToInteractive('df-851c0e46-dbf8-49b0-b619-95e29845702a')\"\n",
              "            title=\"Convert this dataframe to an interactive table.\"\n",
              "            style=\"display:none;\">\n",
              "\n",
              "  <svg xmlns=\"http://www.w3.org/2000/svg\" height=\"24px\" viewBox=\"0 -960 960 960\">\n",
              "    <path d=\"M120-120v-720h720v720H120Zm60-500h600v-160H180v160Zm220 220h160v-160H400v160Zm0 220h160v-160H400v160ZM180-400h160v-160H180v160Zm440 0h160v-160H620v160ZM180-180h160v-160H180v160Zm440 0h160v-160H620v160Z\"/>\n",
              "  </svg>\n",
              "    </button>\n",
              "\n",
              "  <style>\n",
              "    .colab-df-container {\n",
              "      display:flex;\n",
              "      gap: 12px;\n",
              "    }\n",
              "\n",
              "    .colab-df-convert {\n",
              "      background-color: #E8F0FE;\n",
              "      border: none;\n",
              "      border-radius: 50%;\n",
              "      cursor: pointer;\n",
              "      display: none;\n",
              "      fill: #1967D2;\n",
              "      height: 32px;\n",
              "      padding: 0 0 0 0;\n",
              "      width: 32px;\n",
              "    }\n",
              "\n",
              "    .colab-df-convert:hover {\n",
              "      background-color: #E2EBFA;\n",
              "      box-shadow: 0px 1px 2px rgba(60, 64, 67, 0.3), 0px 1px 3px 1px rgba(60, 64, 67, 0.15);\n",
              "      fill: #174EA6;\n",
              "    }\n",
              "\n",
              "    .colab-df-buttons div {\n",
              "      margin-bottom: 4px;\n",
              "    }\n",
              "\n",
              "    [theme=dark] .colab-df-convert {\n",
              "      background-color: #3B4455;\n",
              "      fill: #D2E3FC;\n",
              "    }\n",
              "\n",
              "    [theme=dark] .colab-df-convert:hover {\n",
              "      background-color: #434B5C;\n",
              "      box-shadow: 0px 1px 3px 1px rgba(0, 0, 0, 0.15);\n",
              "      filter: drop-shadow(0px 1px 2px rgba(0, 0, 0, 0.3));\n",
              "      fill: #FFFFFF;\n",
              "    }\n",
              "  </style>\n",
              "\n",
              "    <script>\n",
              "      const buttonEl =\n",
              "        document.querySelector('#df-851c0e46-dbf8-49b0-b619-95e29845702a button.colab-df-convert');\n",
              "      buttonEl.style.display =\n",
              "        google.colab.kernel.accessAllowed ? 'block' : 'none';\n",
              "\n",
              "      async function convertToInteractive(key) {\n",
              "        const element = document.querySelector('#df-851c0e46-dbf8-49b0-b619-95e29845702a');\n",
              "        const dataTable =\n",
              "          await google.colab.kernel.invokeFunction('convertToInteractive',\n",
              "                                                    [key], {});\n",
              "        if (!dataTable) return;\n",
              "\n",
              "        const docLinkHtml = 'Like what you see? Visit the ' +\n",
              "          '<a target=\"_blank\" href=https://colab.research.google.com/notebooks/data_table.ipynb>data table notebook</a>'\n",
              "          + ' to learn more about interactive tables.';\n",
              "        element.innerHTML = '';\n",
              "        dataTable['output_type'] = 'display_data';\n",
              "        await google.colab.output.renderOutput(dataTable, element);\n",
              "        const docLink = document.createElement('div');\n",
              "        docLink.innerHTML = docLinkHtml;\n",
              "        element.appendChild(docLink);\n",
              "      }\n",
              "    </script>\n",
              "  </div>\n",
              "\n",
              "\n",
              "<div id=\"df-45907bc7-2430-4168-ba93-6750a3287516\">\n",
              "  <button class=\"colab-df-quickchart\" onclick=\"quickchart('df-45907bc7-2430-4168-ba93-6750a3287516')\"\n",
              "            title=\"Suggest charts\"\n",
              "            style=\"display:none;\">\n",
              "\n",
              "<svg xmlns=\"http://www.w3.org/2000/svg\" height=\"24px\"viewBox=\"0 0 24 24\"\n",
              "     width=\"24px\">\n",
              "    <g>\n",
              "        <path d=\"M19 3H5c-1.1 0-2 .9-2 2v14c0 1.1.9 2 2 2h14c1.1 0 2-.9 2-2V5c0-1.1-.9-2-2-2zM9 17H7v-7h2v7zm4 0h-2V7h2v10zm4 0h-2v-4h2v4z\"/>\n",
              "    </g>\n",
              "</svg>\n",
              "  </button>\n",
              "\n",
              "<style>\n",
              "  .colab-df-quickchart {\n",
              "      --bg-color: #E8F0FE;\n",
              "      --fill-color: #1967D2;\n",
              "      --hover-bg-color: #E2EBFA;\n",
              "      --hover-fill-color: #174EA6;\n",
              "      --disabled-fill-color: #AAA;\n",
              "      --disabled-bg-color: #DDD;\n",
              "  }\n",
              "\n",
              "  [theme=dark] .colab-df-quickchart {\n",
              "      --bg-color: #3B4455;\n",
              "      --fill-color: #D2E3FC;\n",
              "      --hover-bg-color: #434B5C;\n",
              "      --hover-fill-color: #FFFFFF;\n",
              "      --disabled-bg-color: #3B4455;\n",
              "      --disabled-fill-color: #666;\n",
              "  }\n",
              "\n",
              "  .colab-df-quickchart {\n",
              "    background-color: var(--bg-color);\n",
              "    border: none;\n",
              "    border-radius: 50%;\n",
              "    cursor: pointer;\n",
              "    display: none;\n",
              "    fill: var(--fill-color);\n",
              "    height: 32px;\n",
              "    padding: 0;\n",
              "    width: 32px;\n",
              "  }\n",
              "\n",
              "  .colab-df-quickchart:hover {\n",
              "    background-color: var(--hover-bg-color);\n",
              "    box-shadow: 0 1px 2px rgba(60, 64, 67, 0.3), 0 1px 3px 1px rgba(60, 64, 67, 0.15);\n",
              "    fill: var(--button-hover-fill-color);\n",
              "  }\n",
              "\n",
              "  .colab-df-quickchart-complete:disabled,\n",
              "  .colab-df-quickchart-complete:disabled:hover {\n",
              "    background-color: var(--disabled-bg-color);\n",
              "    fill: var(--disabled-fill-color);\n",
              "    box-shadow: none;\n",
              "  }\n",
              "\n",
              "  .colab-df-spinner {\n",
              "    border: 2px solid var(--fill-color);\n",
              "    border-color: transparent;\n",
              "    border-bottom-color: var(--fill-color);\n",
              "    animation:\n",
              "      spin 1s steps(1) infinite;\n",
              "  }\n",
              "\n",
              "  @keyframes spin {\n",
              "    0% {\n",
              "      border-color: transparent;\n",
              "      border-bottom-color: var(--fill-color);\n",
              "      border-left-color: var(--fill-color);\n",
              "    }\n",
              "    20% {\n",
              "      border-color: transparent;\n",
              "      border-left-color: var(--fill-color);\n",
              "      border-top-color: var(--fill-color);\n",
              "    }\n",
              "    30% {\n",
              "      border-color: transparent;\n",
              "      border-left-color: var(--fill-color);\n",
              "      border-top-color: var(--fill-color);\n",
              "      border-right-color: var(--fill-color);\n",
              "    }\n",
              "    40% {\n",
              "      border-color: transparent;\n",
              "      border-right-color: var(--fill-color);\n",
              "      border-top-color: var(--fill-color);\n",
              "    }\n",
              "    60% {\n",
              "      border-color: transparent;\n",
              "      border-right-color: var(--fill-color);\n",
              "    }\n",
              "    80% {\n",
              "      border-color: transparent;\n",
              "      border-right-color: var(--fill-color);\n",
              "      border-bottom-color: var(--fill-color);\n",
              "    }\n",
              "    90% {\n",
              "      border-color: transparent;\n",
              "      border-bottom-color: var(--fill-color);\n",
              "    }\n",
              "  }\n",
              "</style>\n",
              "\n",
              "  <script>\n",
              "    async function quickchart(key) {\n",
              "      const quickchartButtonEl =\n",
              "        document.querySelector('#' + key + ' button');\n",
              "      quickchartButtonEl.disabled = true;  // To prevent multiple clicks.\n",
              "      quickchartButtonEl.classList.add('colab-df-spinner');\n",
              "      try {\n",
              "        const charts = await google.colab.kernel.invokeFunction(\n",
              "            'suggestCharts', [key], {});\n",
              "      } catch (error) {\n",
              "        console.error('Error during call to suggestCharts:', error);\n",
              "      }\n",
              "      quickchartButtonEl.classList.remove('colab-df-spinner');\n",
              "      quickchartButtonEl.classList.add('colab-df-quickchart-complete');\n",
              "    }\n",
              "    (() => {\n",
              "      let quickchartButtonEl =\n",
              "        document.querySelector('#df-45907bc7-2430-4168-ba93-6750a3287516 button');\n",
              "      quickchartButtonEl.style.display =\n",
              "        google.colab.kernel.accessAllowed ? 'block' : 'none';\n",
              "    })();\n",
              "  </script>\n",
              "</div>\n",
              "    </div>\n",
              "  </div>\n"
            ]
          },
          "metadata": {},
          "execution_count": 19
        }
      ]
    },
    {
      "cell_type": "code",
      "source": [
        "dataClean.shape"
      ],
      "metadata": {
        "colab": {
          "base_uri": "https://localhost:8080/"
        },
        "id": "OpEO_WUFRt5i",
        "outputId": "b3be9950-f092-4073-8974-d555904363fb"
      },
      "execution_count": null,
      "outputs": [
        {
          "output_type": "execute_result",
          "data": {
            "text/plain": [
              "(10171, 3)"
            ]
          },
          "metadata": {},
          "execution_count": 20
        }
      ]
    },
    {
      "cell_type": "code",
      "source": [
        "ids = dataClean.id.unique()\n",
        "len(ids)"
      ],
      "metadata": {
        "colab": {
          "base_uri": "https://localhost:8080/"
        },
        "id": "dS4tpaJRSU7k",
        "outputId": "1e57c6d0-21cc-4472-ed1b-7c1563756c26"
      },
      "execution_count": null,
      "outputs": [
        {
          "output_type": "execute_result",
          "data": {
            "text/plain": [
              "268"
            ]
          },
          "metadata": {},
          "execution_count": 21
        }
      ]
    },
    {
      "cell_type": "code",
      "source": [
        "print(\"Number of unique words in the dataset: {}\".format(dataClean.text.nunique()))\n",
        "print(\"Number of unique tags in the dataset: {}\".format(dataClean.tag.nunique()))"
      ],
      "metadata": {
        "colab": {
          "base_uri": "https://localhost:8080/"
        },
        "id": "3L0d6XKbSmbo",
        "outputId": "0af406ef-eabc-4c25-dba5-d8831ba7da9c"
      },
      "execution_count": null,
      "outputs": [
        {
          "output_type": "stream",
          "name": "stdout",
          "text": [
            "Number of unique words in the dataset: 3479\n",
            "Number of unique tags in the dataset: 11\n"
          ]
        }
      ]
    },
    {
      "cell_type": "code",
      "source": [
        "tags = dataClean.tag.unique()\n",
        "tags"
      ],
      "metadata": {
        "colab": {
          "base_uri": "https://localhost:8080/"
        },
        "id": "FhTAKKWeTTdC",
        "outputId": "5754d0a1-9198-485c-a6a0-ac9aedc42e55"
      },
      "execution_count": null,
      "outputs": [
        {
          "output_type": "execute_result",
          "data": {
            "text/plain": [
              "array(['B-NAME', 'I-NAME', 'B-ING', 'B-TYPE', 'B-DES', 'I-DES', 'O',\n",
              "       'B-ORG', 'I-ING', 'I-ORG', 'I-TYPE'], dtype=object)"
            ]
          },
          "metadata": {},
          "execution_count": 23
        }
      ]
    },
    {
      "cell_type": "code",
      "source": [
        "def num_words_tags(tags, data):\n",
        "  tags_count = {}\n",
        "  for tag in tags:\n",
        "    len_tag = len(data[data['tag'] == tag])\n",
        "    tags_count[tag] = len_tag\n",
        "  return tags_count"
      ],
      "metadata": {
        "id": "G1CNrjeHTiPy"
      },
      "execution_count": null,
      "outputs": []
    },
    {
      "cell_type": "code",
      "source": [
        "tags_count = num_words_tags(tags, dataClean)\n",
        "tags_count"
      ],
      "metadata": {
        "colab": {
          "base_uri": "https://localhost:8080/"
        },
        "id": "eYFDuk9hUC9t",
        "outputId": "a2277c02-13b5-44c6-8187-563ef0e0c4c9"
      },
      "execution_count": null,
      "outputs": [
        {
          "output_type": "execute_result",
          "data": {
            "text/plain": [
              "{'B-NAME': 638,\n",
              " 'I-NAME': 381,\n",
              " 'B-ING': 699,\n",
              " 'B-TYPE': 360,\n",
              " 'B-DES': 372,\n",
              " 'I-DES': 911,\n",
              " 'O': 5337,\n",
              " 'B-ORG': 279,\n",
              " 'I-ING': 755,\n",
              " 'I-ORG': 108,\n",
              " 'I-TYPE': 331}"
            ]
          },
          "metadata": {},
          "execution_count": 25
        }
      ]
    },
    {
      "cell_type": "code",
      "source": [
        "grouped_data.head()"
      ],
      "metadata": {
        "colab": {
          "base_uri": "https://localhost:8080/",
          "height": 206
        },
        "id": "x1V8uL0QXRvy",
        "outputId": "cf8b032b-67b6-4d41-8661-f1376db33fe3"
      },
      "execution_count": null,
      "outputs": [
        {
          "output_type": "execute_result",
          "data": {
            "text/plain": [
              "             id                                               text  \\\n",
              "0    image1.jpg  sanmol forte paracetamol tablet penurun panas ...   \n",
              "1   image10.jpg  ptkalbe farma toe bekasi indonesia no dbl b511...   \n",
              "2  image100.jpg  hathhati procold flu bersamaan penggunaan deng...   \n",
              "3  image101.jpg  gsk formula extra untuk sakit kepala panadol e...   \n",
              "4  image102.jpg  sanmol paracetamol penurun panas pereda nyeri ...   \n",
              "\n",
              "                                                 tag  \n",
              "0  [B-NAME, I-NAME, B-ING, B-TYPE, B-DES, I-DES, ...  \n",
              "1  [O, I-ORG, O, O, O, O, O, O, O, O, O, O, B-TYP...  \n",
              "2  [O, B-NAME, I-NAME, O, O, O, O, O, O, O, O, O,...  \n",
              "3  [O, B-DES, I-DES, I-DES, I-DES, I-DES, B-NAME,...  \n",
              "4  [B-NAME, B-ING, B-DES, I-DES, B-DES, I-DES, B-...  "
            ],
            "text/html": [
              "\n",
              "  <div id=\"df-44639a3d-22ea-48e2-8bb4-652e209fe988\" class=\"colab-df-container\">\n",
              "    <div>\n",
              "<style scoped>\n",
              "    .dataframe tbody tr th:only-of-type {\n",
              "        vertical-align: middle;\n",
              "    }\n",
              "\n",
              "    .dataframe tbody tr th {\n",
              "        vertical-align: top;\n",
              "    }\n",
              "\n",
              "    .dataframe thead th {\n",
              "        text-align: right;\n",
              "    }\n",
              "</style>\n",
              "<table border=\"1\" class=\"dataframe\">\n",
              "  <thead>\n",
              "    <tr style=\"text-align: right;\">\n",
              "      <th></th>\n",
              "      <th>id</th>\n",
              "      <th>text</th>\n",
              "      <th>tag</th>\n",
              "    </tr>\n",
              "  </thead>\n",
              "  <tbody>\n",
              "    <tr>\n",
              "      <th>0</th>\n",
              "      <td>image1.jpg</td>\n",
              "      <td>sanmol forte paracetamol tablet penurun panas ...</td>\n",
              "      <td>[B-NAME, I-NAME, B-ING, B-TYPE, B-DES, I-DES, ...</td>\n",
              "    </tr>\n",
              "    <tr>\n",
              "      <th>1</th>\n",
              "      <td>image10.jpg</td>\n",
              "      <td>ptkalbe farma toe bekasi indonesia no dbl b511...</td>\n",
              "      <td>[O, I-ORG, O, O, O, O, O, O, O, O, O, O, B-TYP...</td>\n",
              "    </tr>\n",
              "    <tr>\n",
              "      <th>2</th>\n",
              "      <td>image100.jpg</td>\n",
              "      <td>hathhati procold flu bersamaan penggunaan deng...</td>\n",
              "      <td>[O, B-NAME, I-NAME, O, O, O, O, O, O, O, O, O,...</td>\n",
              "    </tr>\n",
              "    <tr>\n",
              "      <th>3</th>\n",
              "      <td>image101.jpg</td>\n",
              "      <td>gsk formula extra untuk sakit kepala panadol e...</td>\n",
              "      <td>[O, B-DES, I-DES, I-DES, I-DES, I-DES, B-NAME,...</td>\n",
              "    </tr>\n",
              "    <tr>\n",
              "      <th>4</th>\n",
              "      <td>image102.jpg</td>\n",
              "      <td>sanmol paracetamol penurun panas pereda nyeri ...</td>\n",
              "      <td>[B-NAME, B-ING, B-DES, I-DES, B-DES, I-DES, B-...</td>\n",
              "    </tr>\n",
              "  </tbody>\n",
              "</table>\n",
              "</div>\n",
              "    <div class=\"colab-df-buttons\">\n",
              "\n",
              "  <div class=\"colab-df-container\">\n",
              "    <button class=\"colab-df-convert\" onclick=\"convertToInteractive('df-44639a3d-22ea-48e2-8bb4-652e209fe988')\"\n",
              "            title=\"Convert this dataframe to an interactive table.\"\n",
              "            style=\"display:none;\">\n",
              "\n",
              "  <svg xmlns=\"http://www.w3.org/2000/svg\" height=\"24px\" viewBox=\"0 -960 960 960\">\n",
              "    <path d=\"M120-120v-720h720v720H120Zm60-500h600v-160H180v160Zm220 220h160v-160H400v160Zm0 220h160v-160H400v160ZM180-400h160v-160H180v160Zm440 0h160v-160H620v160ZM180-180h160v-160H180v160Zm440 0h160v-160H620v160Z\"/>\n",
              "  </svg>\n",
              "    </button>\n",
              "\n",
              "  <style>\n",
              "    .colab-df-container {\n",
              "      display:flex;\n",
              "      gap: 12px;\n",
              "    }\n",
              "\n",
              "    .colab-df-convert {\n",
              "      background-color: #E8F0FE;\n",
              "      border: none;\n",
              "      border-radius: 50%;\n",
              "      cursor: pointer;\n",
              "      display: none;\n",
              "      fill: #1967D2;\n",
              "      height: 32px;\n",
              "      padding: 0 0 0 0;\n",
              "      width: 32px;\n",
              "    }\n",
              "\n",
              "    .colab-df-convert:hover {\n",
              "      background-color: #E2EBFA;\n",
              "      box-shadow: 0px 1px 2px rgba(60, 64, 67, 0.3), 0px 1px 3px 1px rgba(60, 64, 67, 0.15);\n",
              "      fill: #174EA6;\n",
              "    }\n",
              "\n",
              "    .colab-df-buttons div {\n",
              "      margin-bottom: 4px;\n",
              "    }\n",
              "\n",
              "    [theme=dark] .colab-df-convert {\n",
              "      background-color: #3B4455;\n",
              "      fill: #D2E3FC;\n",
              "    }\n",
              "\n",
              "    [theme=dark] .colab-df-convert:hover {\n",
              "      background-color: #434B5C;\n",
              "      box-shadow: 0px 1px 3px 1px rgba(0, 0, 0, 0.15);\n",
              "      filter: drop-shadow(0px 1px 2px rgba(0, 0, 0, 0.3));\n",
              "      fill: #FFFFFF;\n",
              "    }\n",
              "  </style>\n",
              "\n",
              "    <script>\n",
              "      const buttonEl =\n",
              "        document.querySelector('#df-44639a3d-22ea-48e2-8bb4-652e209fe988 button.colab-df-convert');\n",
              "      buttonEl.style.display =\n",
              "        google.colab.kernel.accessAllowed ? 'block' : 'none';\n",
              "\n",
              "      async function convertToInteractive(key) {\n",
              "        const element = document.querySelector('#df-44639a3d-22ea-48e2-8bb4-652e209fe988');\n",
              "        const dataTable =\n",
              "          await google.colab.kernel.invokeFunction('convertToInteractive',\n",
              "                                                    [key], {});\n",
              "        if (!dataTable) return;\n",
              "\n",
              "        const docLinkHtml = 'Like what you see? Visit the ' +\n",
              "          '<a target=\"_blank\" href=https://colab.research.google.com/notebooks/data_table.ipynb>data table notebook</a>'\n",
              "          + ' to learn more about interactive tables.';\n",
              "        element.innerHTML = '';\n",
              "        dataTable['output_type'] = 'display_data';\n",
              "        await google.colab.output.renderOutput(dataTable, element);\n",
              "        const docLink = document.createElement('div');\n",
              "        docLink.innerHTML = docLinkHtml;\n",
              "        element.appendChild(docLink);\n",
              "      }\n",
              "    </script>\n",
              "  </div>\n",
              "\n",
              "\n",
              "<div id=\"df-56bfe5a3-19a2-4256-9e79-22921924543b\">\n",
              "  <button class=\"colab-df-quickchart\" onclick=\"quickchart('df-56bfe5a3-19a2-4256-9e79-22921924543b')\"\n",
              "            title=\"Suggest charts\"\n",
              "            style=\"display:none;\">\n",
              "\n",
              "<svg xmlns=\"http://www.w3.org/2000/svg\" height=\"24px\"viewBox=\"0 0 24 24\"\n",
              "     width=\"24px\">\n",
              "    <g>\n",
              "        <path d=\"M19 3H5c-1.1 0-2 .9-2 2v14c0 1.1.9 2 2 2h14c1.1 0 2-.9 2-2V5c0-1.1-.9-2-2-2zM9 17H7v-7h2v7zm4 0h-2V7h2v10zm4 0h-2v-4h2v4z\"/>\n",
              "    </g>\n",
              "</svg>\n",
              "  </button>\n",
              "\n",
              "<style>\n",
              "  .colab-df-quickchart {\n",
              "      --bg-color: #E8F0FE;\n",
              "      --fill-color: #1967D2;\n",
              "      --hover-bg-color: #E2EBFA;\n",
              "      --hover-fill-color: #174EA6;\n",
              "      --disabled-fill-color: #AAA;\n",
              "      --disabled-bg-color: #DDD;\n",
              "  }\n",
              "\n",
              "  [theme=dark] .colab-df-quickchart {\n",
              "      --bg-color: #3B4455;\n",
              "      --fill-color: #D2E3FC;\n",
              "      --hover-bg-color: #434B5C;\n",
              "      --hover-fill-color: #FFFFFF;\n",
              "      --disabled-bg-color: #3B4455;\n",
              "      --disabled-fill-color: #666;\n",
              "  }\n",
              "\n",
              "  .colab-df-quickchart {\n",
              "    background-color: var(--bg-color);\n",
              "    border: none;\n",
              "    border-radius: 50%;\n",
              "    cursor: pointer;\n",
              "    display: none;\n",
              "    fill: var(--fill-color);\n",
              "    height: 32px;\n",
              "    padding: 0;\n",
              "    width: 32px;\n",
              "  }\n",
              "\n",
              "  .colab-df-quickchart:hover {\n",
              "    background-color: var(--hover-bg-color);\n",
              "    box-shadow: 0 1px 2px rgba(60, 64, 67, 0.3), 0 1px 3px 1px rgba(60, 64, 67, 0.15);\n",
              "    fill: var(--button-hover-fill-color);\n",
              "  }\n",
              "\n",
              "  .colab-df-quickchart-complete:disabled,\n",
              "  .colab-df-quickchart-complete:disabled:hover {\n",
              "    background-color: var(--disabled-bg-color);\n",
              "    fill: var(--disabled-fill-color);\n",
              "    box-shadow: none;\n",
              "  }\n",
              "\n",
              "  .colab-df-spinner {\n",
              "    border: 2px solid var(--fill-color);\n",
              "    border-color: transparent;\n",
              "    border-bottom-color: var(--fill-color);\n",
              "    animation:\n",
              "      spin 1s steps(1) infinite;\n",
              "  }\n",
              "\n",
              "  @keyframes spin {\n",
              "    0% {\n",
              "      border-color: transparent;\n",
              "      border-bottom-color: var(--fill-color);\n",
              "      border-left-color: var(--fill-color);\n",
              "    }\n",
              "    20% {\n",
              "      border-color: transparent;\n",
              "      border-left-color: var(--fill-color);\n",
              "      border-top-color: var(--fill-color);\n",
              "    }\n",
              "    30% {\n",
              "      border-color: transparent;\n",
              "      border-left-color: var(--fill-color);\n",
              "      border-top-color: var(--fill-color);\n",
              "      border-right-color: var(--fill-color);\n",
              "    }\n",
              "    40% {\n",
              "      border-color: transparent;\n",
              "      border-right-color: var(--fill-color);\n",
              "      border-top-color: var(--fill-color);\n",
              "    }\n",
              "    60% {\n",
              "      border-color: transparent;\n",
              "      border-right-color: var(--fill-color);\n",
              "    }\n",
              "    80% {\n",
              "      border-color: transparent;\n",
              "      border-right-color: var(--fill-color);\n",
              "      border-bottom-color: var(--fill-color);\n",
              "    }\n",
              "    90% {\n",
              "      border-color: transparent;\n",
              "      border-bottom-color: var(--fill-color);\n",
              "    }\n",
              "  }\n",
              "</style>\n",
              "\n",
              "  <script>\n",
              "    async function quickchart(key) {\n",
              "      const quickchartButtonEl =\n",
              "        document.querySelector('#' + key + ' button');\n",
              "      quickchartButtonEl.disabled = true;  // To prevent multiple clicks.\n",
              "      quickchartButtonEl.classList.add('colab-df-spinner');\n",
              "      try {\n",
              "        const charts = await google.colab.kernel.invokeFunction(\n",
              "            'suggestCharts', [key], {});\n",
              "      } catch (error) {\n",
              "        console.error('Error during call to suggestCharts:', error);\n",
              "      }\n",
              "      quickchartButtonEl.classList.remove('colab-df-spinner');\n",
              "      quickchartButtonEl.classList.add('colab-df-quickchart-complete');\n",
              "    }\n",
              "    (() => {\n",
              "      let quickchartButtonEl =\n",
              "        document.querySelector('#df-56bfe5a3-19a2-4256-9e79-22921924543b button');\n",
              "      quickchartButtonEl.style.display =\n",
              "        google.colab.kernel.accessAllowed ? 'block' : 'none';\n",
              "    })();\n",
              "  </script>\n",
              "</div>\n",
              "    </div>\n",
              "  </div>\n"
            ]
          },
          "metadata": {},
          "execution_count": 26
        }
      ]
    },
    {
      "cell_type": "code",
      "source": [
        "X = list(grouped_data['text'])\n",
        "Y = list(grouped_data['tag'])"
      ],
      "metadata": {
        "id": "YDgZ_q3mXYtP"
      },
      "execution_count": null,
      "outputs": []
    },
    {
      "cell_type": "code",
      "source": [
        "from tensorflow.keras.preprocessing.text import Tokenizer\n",
        "from tensorflow.keras.preprocessing.sequence import pad_sequences"
      ],
      "metadata": {
        "id": "VxOaWpq9X9Qo"
      },
      "execution_count": null,
      "outputs": []
    },
    {
      "cell_type": "code",
      "source": [
        "print(\"Number of examples: {}\".format(len(X)))"
      ],
      "metadata": {
        "colab": {
          "base_uri": "https://localhost:8080/"
        },
        "id": "GVWI4eSqYAeq",
        "outputId": "786c63c0-d381-494a-f777-5b7c6467bcfd"
      },
      "execution_count": null,
      "outputs": [
        {
          "output_type": "stream",
          "name": "stdout",
          "text": [
            "Number of examples: 268\n"
          ]
        }
      ]
    },
    {
      "cell_type": "code",
      "source": [
        "tokenizer = Tokenizer()\n",
        "tokenizer.fit_on_texts(X)\n",
        "sequences = tokenizer.texts_to_sequences(X)"
      ],
      "metadata": {
        "id": "zfg5-ZMI5HQ4"
      },
      "execution_count": null,
      "outputs": []
    },
    {
      "cell_type": "code",
      "source": [
        "word_index = tokenizer.word_index\n",
        "print(\"Found {} unique tokens.\".format(len(word_index)))\n",
        "ind2word = dict([(value, key) for (key, value) in word_index.items()])"
      ],
      "metadata": {
        "colab": {
          "base_uri": "https://localhost:8080/"
        },
        "id": "OvKbGMxv6Sqd",
        "outputId": "9e1b5d50-4c7c-495c-b427-2392e5181b5d"
      },
      "execution_count": null,
      "outputs": [
        {
          "output_type": "stream",
          "name": "stdout",
          "text": [
            "Found 3478 unique tokens.\n"
          ]
        }
      ]
    },
    {
      "cell_type": "code",
      "source": [
        "max_words = len(word_index)\n",
        "maxlen = max(len(seq) for seq in sequences)"
      ],
      "metadata": {
        "id": "uLtOhFL45Vid"
      },
      "execution_count": null,
      "outputs": []
    },
    {
      "cell_type": "code",
      "source": [
        "word2id = word_index"
      ],
      "metadata": {
        "id": "qTelCzK9YoLW"
      },
      "execution_count": null,
      "outputs": []
    },
    {
      "cell_type": "code",
      "source": [
        "id2word = {}\n",
        "for key, value in word2id.items():\n",
        "  id2word[value] = key"
      ],
      "metadata": {
        "id": "Sc4tDIAhYrMD"
      },
      "execution_count": null,
      "outputs": []
    },
    {
      "cell_type": "code",
      "source": [
        "X_preprocessed = pad_sequences(sequences, padding='post')"
      ],
      "metadata": {
        "id": "MFQWH5AuYxJc"
      },
      "execution_count": null,
      "outputs": []
    },
    {
      "cell_type": "code",
      "source": [
        "X_preprocessed[0]"
      ],
      "metadata": {
        "colab": {
          "base_uri": "https://localhost:8080/"
        },
        "id": "CYUubI83Y2Xw",
        "outputId": "e7f38f7e-4f82-4fd0-9a72-96f4f3926a7c"
      },
      "execution_count": null,
      "outputs": [
        {
          "output_type": "execute_result",
          "data": {
            "text/plain": [
              "array([ 73,  16,   6,   1, 102, 103,  66,  51, 401,  82,   1,  20,   0,\n",
              "         0,   0,   0,   0,   0,   0,   0,   0,   0,   0,   0,   0,   0,\n",
              "         0,   0,   0,   0,   0,   0,   0,   0,   0,   0,   0,   0,   0,\n",
              "         0,   0,   0,   0,   0,   0,   0,   0,   0,   0,   0,   0,   0,\n",
              "         0,   0,   0,   0,   0,   0,   0,   0,   0,   0,   0,   0,   0,\n",
              "         0,   0,   0,   0,   0,   0,   0,   0,   0,   0,   0,   0,   0,\n",
              "         0,   0,   0,   0,   0,   0,   0,   0,   0,   0,   0,   0,   0,\n",
              "         0,   0,   0,   0,   0,   0,   0,   0,   0,   0,   0,   0,   0,\n",
              "         0,   0,   0,   0,   0,   0,   0,   0,   0,   0,   0,   0,   0,\n",
              "         0,   0,   0,   0,   0,   0,   0,   0,   0,   0,   0,   0,   0,\n",
              "         0,   0,   0,   0,   0,   0,   0,   0,   0,   0,   0,   0,   0,\n",
              "         0,   0,   0,   0,   0,   0,   0,   0,   0,   0,   0,   0,   0,\n",
              "         0,   0,   0,   0,   0,   0,   0,   0,   0,   0,   0,   0,   0,\n",
              "         0,   0,   0,   0,   0,   0,   0,   0,   0,   0,   0,   0,   0,\n",
              "         0,   0,   0,   0,   0,   0,   0,   0,   0,   0,   0,   0,   0,\n",
              "         0,   0,   0,   0,   0,   0,   0,   0,   0,   0,   0,   0,   0,\n",
              "         0,   0,   0,   0,   0,   0,   0,   0,   0,   0,   0,   0,   0,\n",
              "         0,   0,   0,   0,   0,   0,   0,   0,   0,   0,   0,   0,   0,\n",
              "         0,   0,   0,   0,   0,   0,   0,   0,   0,   0,   0,   0,   0,\n",
              "         0,   0,   0,   0,   0,   0,   0,   0,   0,   0,   0,   0,   0,\n",
              "         0,   0,   0,   0,   0,   0,   0,   0,   0,   0,   0,   0],\n",
              "      dtype=int32)"
            ]
          },
          "metadata": {},
          "execution_count": 40
        }
      ]
    },
    {
      "cell_type": "code",
      "source": [
        "X_preprocessed[250]"
      ],
      "metadata": {
        "colab": {
          "base_uri": "https://localhost:8080/"
        },
        "id": "9gS0KWQ2Y9ih",
        "outputId": "30e85ed3-0042-4f39-fb95-256c8eb493e4"
      },
      "execution_count": null,
      "outputs": [
        {
          "output_type": "execute_result",
          "data": {
            "text/plain": [
              "array([   1,   15,    8,   63,  147,  148,  149,  150,   10,   67,    1,\n",
              "         27,   36,   95,   42,  151,  624,   42, 3317, 3318,  649, 3319,\n",
              "        282, 3320,    9,   17,   17,    9,  182, 3321,  209, 3322, 3323,\n",
              "       3324,  252, 3325,  346, 3326,   96,    2,  570,    9,   31,  239,\n",
              "       3327, 3328,  336, 3329,  141,  291, 3330,    3, 3331, 3332, 3333,\n",
              "       3334,  214,  306, 3335,  110,  126,  345,  198, 3336,  155, 3337,\n",
              "        236, 3338,  559, 3339,  235, 3340, 3341, 3342, 3343, 3344, 3345,\n",
              "        364, 3346, 3347,  269, 3348, 3349,  547, 3350, 3351, 3352, 3353,\n",
              "          5, 3354,  286,  260,  169,   64,    0,    0,    0,    0,    0,\n",
              "          0,    0,    0,    0,    0,    0,    0,    0,    0,    0,    0,\n",
              "          0,    0,    0,    0,    0,    0,    0,    0,    0,    0,    0,\n",
              "          0,    0,    0,    0,    0,    0,    0,    0,    0,    0,    0,\n",
              "          0,    0,    0,    0,    0,    0,    0,    0,    0,    0,    0,\n",
              "          0,    0,    0,    0,    0,    0,    0,    0,    0,    0,    0,\n",
              "          0,    0,    0,    0,    0,    0,    0,    0,    0,    0,    0,\n",
              "          0,    0,    0,    0,    0,    0,    0,    0,    0,    0,    0,\n",
              "          0,    0,    0,    0,    0,    0,    0,    0,    0,    0,    0,\n",
              "          0,    0,    0,    0,    0,    0,    0,    0,    0,    0,    0,\n",
              "          0,    0,    0,    0,    0,    0,    0,    0,    0,    0,    0,\n",
              "          0,    0,    0,    0,    0,    0,    0,    0,    0,    0,    0,\n",
              "          0,    0,    0,    0,    0,    0,    0,    0,    0,    0,    0,\n",
              "          0,    0,    0,    0,    0,    0,    0,    0,    0,    0,    0,\n",
              "          0,    0,    0,    0,    0,    0,    0,    0,    0,    0,    0,\n",
              "          0,    0,    0,    0,    0,    0,    0,    0,    0,    0,    0,\n",
              "          0,    0,    0,    0,    0,    0,    0,    0], dtype=int32)"
            ]
          },
          "metadata": {},
          "execution_count": 41
        }
      ]
    },
    {
      "cell_type": "code",
      "source": [
        "tags2id = {}\n",
        "for i, tag in enumerate(tags):\n",
        "  tags2id[tag] = i"
      ],
      "metadata": {
        "id": "-M46i9JnZCCS"
      },
      "execution_count": null,
      "outputs": []
    },
    {
      "cell_type": "code",
      "source": [
        "tags2id"
      ],
      "metadata": {
        "colab": {
          "base_uri": "https://localhost:8080/"
        },
        "id": "nqr1dBGJZHCl",
        "outputId": "91223a36-c72b-4c18-a3ef-0022bc11f9e9"
      },
      "execution_count": null,
      "outputs": [
        {
          "output_type": "execute_result",
          "data": {
            "text/plain": [
              "{'B-NAME': 0,\n",
              " 'I-NAME': 1,\n",
              " 'B-ING': 2,\n",
              " 'B-TYPE': 3,\n",
              " 'B-DES': 4,\n",
              " 'I-DES': 5,\n",
              " 'O': 6,\n",
              " 'B-ORG': 7,\n",
              " 'I-ING': 8,\n",
              " 'I-ORG': 9,\n",
              " 'I-TYPE': 10}"
            ]
          },
          "metadata": {},
          "execution_count": 43
        }
      ]
    },
    {
      "cell_type": "code",
      "source": [
        "id2tag = {}\n",
        "for key, value in tags2id.items():\n",
        "  id2tag[value] = key"
      ],
      "metadata": {
        "id": "gNesuChQZMPm"
      },
      "execution_count": null,
      "outputs": []
    },
    {
      "cell_type": "code",
      "source": [
        "id2tag"
      ],
      "metadata": {
        "colab": {
          "base_uri": "https://localhost:8080/"
        },
        "id": "S0GAELkeZNZK",
        "outputId": "54a25d51-7e22-4e46-b6e8-1333220f0957"
      },
      "execution_count": null,
      "outputs": [
        {
          "output_type": "execute_result",
          "data": {
            "text/plain": [
              "{0: 'B-NAME',\n",
              " 1: 'I-NAME',\n",
              " 2: 'B-ING',\n",
              " 3: 'B-TYPE',\n",
              " 4: 'B-DES',\n",
              " 5: 'I-DES',\n",
              " 6: 'O',\n",
              " 7: 'B-ORG',\n",
              " 8: 'I-ING',\n",
              " 9: 'I-ORG',\n",
              " 10: 'I-TYPE'}"
            ]
          },
          "metadata": {},
          "execution_count": 45
        }
      ]
    },
    {
      "cell_type": "code",
      "source": [
        "def preprocess_tags(tags2id, Y):\n",
        "  maxlen = max(len(y) for y in Y)\n",
        "  Y_preprocessed = np.full((len(Y), maxlen), tags2id['O'], dtype=np.int32)\n",
        "\n",
        "  for i, y in enumerate(Y):\n",
        "    Y_place_holder = [tags2id[tag] for tag in y]\n",
        "    len_new_tag_list = len(Y_place_holder)\n",
        "\n",
        "    Y_place_holder = Y_place_holder[:maxlen]\n",
        "    Y_preprocessed[i, :len_new_tag_list] = Y_place_holder\n",
        "\n",
        "  return Y_preprocessed"
      ],
      "metadata": {
        "id": "L_4EmCGrZYI7"
      },
      "execution_count": null,
      "outputs": []
    },
    {
      "cell_type": "code",
      "source": [
        "Y_preprocessed = preprocess_tags(tags2id, Y)\n",
        "print(Y_preprocessed[0])"
      ],
      "metadata": {
        "colab": {
          "base_uri": "https://localhost:8080/"
        },
        "id": "Sn0gOuyxbCVf",
        "outputId": "8812cc07-b0a0-4a10-f38b-7adc465b867f"
      },
      "execution_count": null,
      "outputs": [
        {
          "output_type": "stream",
          "name": "stdout",
          "text": [
            "[0 1 2 3 4 5 4 5 6 6 3 7 6 6 6 6 6 6 6 6 6 6 6 6 6 6 6 6 6 6 6 6 6 6 6 6 6\n",
            " 6 6 6 6 6 6 6 6 6 6 6 6 6 6 6 6 6 6 6 6 6 6 6 6 6 6 6 6 6 6 6 6 6 6 6 6 6\n",
            " 6 6 6 6 6 6 6 6 6 6 6 6 6 6 6 6 6 6 6 6 6 6 6 6 6 6 6 6 6 6 6 6 6 6 6 6 6\n",
            " 6 6 6 6 6 6 6 6 6 6 6 6 6 6 6 6 6 6 6 6 6 6 6 6 6 6 6 6 6 6 6 6 6 6 6 6 6\n",
            " 6 6 6 6 6 6 6 6 6 6 6 6 6 6 6 6 6 6 6 6 6 6 6 6 6 6 6 6 6 6 6 6 6 6 6 6 6\n",
            " 6 6 6 6 6 6 6 6 6 6 6 6 6 6 6 6 6 6 6 6 6 6 6 6 6 6 6 6 6 6 6 6 6 6 6 6 6\n",
            " 6 6 6 6 6 6 6 6 6 6 6 6 6 6 6 6 6 6 6 6 6 6 6 6 6 6 6 6 6 6 6 6 6 6 6 6 6\n",
            " 6 6 6 6 6 6 6 6 6 6 6 6 6]\n"
          ]
        }
      ]
    },
    {
      "cell_type": "code",
      "source": [
        "print(Y[0])"
      ],
      "metadata": {
        "colab": {
          "base_uri": "https://localhost:8080/"
        },
        "id": "Cu1uQ2_8bPP_",
        "outputId": "00bb10ad-1692-4bd6-cd81-1411ec5b76a9"
      },
      "execution_count": null,
      "outputs": [
        {
          "output_type": "stream",
          "name": "stdout",
          "text": [
            "['B-NAME', 'I-NAME', 'B-ING', 'B-TYPE', 'B-DES', 'I-DES', 'B-DES', 'I-DES', 'O', 'O', 'B-TYPE', 'B-ORG']\n"
          ]
        }
      ]
    },
    {
      "cell_type": "code",
      "source": [
        "print(\"The Length of training examples: {}\".format(len(X_preprocessed)))\n",
        "print(\"The Length of training targets: {}\".format(len(Y_preprocessed)))"
      ],
      "metadata": {
        "colab": {
          "base_uri": "https://localhost:8080/"
        },
        "id": "SPZwH170bkKn",
        "outputId": "9ef7acb1-7eec-454c-a694-24288be60f33"
      },
      "execution_count": null,
      "outputs": [
        {
          "output_type": "stream",
          "name": "stdout",
          "text": [
            "The Length of training examples: 268\n",
            "The Length of training targets: 268\n"
          ]
        }
      ]
    },
    {
      "cell_type": "code",
      "source": [
        "X_preprocessed = np.asarray(X_preprocessed)\n",
        "Y_preprocessed = np.asarray(Y_preprocessed)"
      ],
      "metadata": {
        "id": "rM_0LOFTbxyZ"
      },
      "execution_count": null,
      "outputs": []
    },
    {
      "cell_type": "code",
      "source": [
        "training_samples = 0.7\n",
        "validation_samples = 0.15\n",
        "testing_samples = 0.15"
      ],
      "metadata": {
        "id": "2XD_CL8Fb13J"
      },
      "execution_count": null,
      "outputs": []
    },
    {
      "cell_type": "code",
      "source": [
        "indices = np.arange(len(Y_preprocessed))"
      ],
      "metadata": {
        "id": "2UQnEP3Rb5gz"
      },
      "execution_count": null,
      "outputs": []
    },
    {
      "cell_type": "code",
      "source": [
        "np.random.seed(seed=123)\n",
        "np.random.shuffle(indices)"
      ],
      "metadata": {
        "id": "jg72S__Kb7T0"
      },
      "execution_count": null,
      "outputs": []
    },
    {
      "cell_type": "code",
      "source": [
        "X_preprocessed = X_preprocessed[indices]\n",
        "Y_preprocessed = Y_preprocessed[indices]"
      ],
      "metadata": {
        "id": "MRLsJtx8cBXd"
      },
      "execution_count": null,
      "outputs": []
    },
    {
      "cell_type": "code",
      "source": [
        "X_train = X_preprocessed[: int(0.7 * len(X_preprocessed))]\n",
        "print(\"Number of training examples: {}\".format(len(X_train)))\n",
        "\n",
        "X_val = X_preprocessed[int(0.7 * len(X_preprocessed)) : int(0.7 * len(X_preprocessed)) + (int(0.15 * len(X_preprocessed)) + 1)]\n",
        "print(\"Number of validation examples: {}\".format(len(X_val)))\n",
        "\n",
        "X_test = X_preprocessed[int(0.7 * len(X_preprocessed)) + (int(0.15 * len(X_preprocessed)) + 1) : ]\n",
        "print(\"Number of testing examples: {}\".format(len(X_test)))\n",
        "\n",
        "Y_train = Y_preprocessed[: int(0.7 * len(X_preprocessed))]\n",
        "Y_val = Y_preprocessed[int(0.7 * len(X_preprocessed)) : int(0.7 * len(X_preprocessed)) + (int(0.15 * len(X_preprocessed)) + 1)]\n",
        "Y_test = Y_preprocessed[int(0.7 * len(X_preprocessed)) + (int(0.15 * len(X_preprocessed)) + 1) : ]\n",
        "\n",
        "print(\"Total number of examples after shuffling and splitting: {}\".format(len(X_train) + len(X_val) + len(X_test)))"
      ],
      "metadata": {
        "colab": {
          "base_uri": "https://localhost:8080/"
        },
        "id": "SROMW0QocIsx",
        "outputId": "3b2d9c1a-11f3-4ee4-e598-ac99ea4de443"
      },
      "execution_count": null,
      "outputs": [
        {
          "output_type": "stream",
          "name": "stdout",
          "text": [
            "Number of training examples: 187\n",
            "Number of validation examples: 41\n",
            "Number of testing examples: 40\n",
            "Total number of examples after shuffling and splitting: 268\n"
          ]
        }
      ]
    },
    {
      "cell_type": "code",
      "source": [
        "X_train[0]"
      ],
      "metadata": {
        "colab": {
          "base_uri": "https://localhost:8080/"
        },
        "id": "cCg4NC9mclfT",
        "outputId": "56160e56-d983-4ca9-f20c-1d922a83b1ea"
      },
      "execution_count": null,
      "outputs": [
        {
          "output_type": "execute_result",
          "data": {
            "text/plain": [
              "array([957,   2, 958,   1,  46,  24,  47,  41, 959, 130, 108,  17, 464,\n",
              "         9, 960,  54,  11, 113,  98,   3,   3,   1,  22,   2,  46,  24,\n",
              "        47,  41, 961, 962, 963,  17,  11,   9, 131, 285,   0,   0,   0,\n",
              "         0,   0,   0,   0,   0,   0,   0,   0,   0,   0,   0,   0,   0,\n",
              "         0,   0,   0,   0,   0,   0,   0,   0,   0,   0,   0,   0,   0,\n",
              "         0,   0,   0,   0,   0,   0,   0,   0,   0,   0,   0,   0,   0,\n",
              "         0,   0,   0,   0,   0,   0,   0,   0,   0,   0,   0,   0,   0,\n",
              "         0,   0,   0,   0,   0,   0,   0,   0,   0,   0,   0,   0,   0,\n",
              "         0,   0,   0,   0,   0,   0,   0,   0,   0,   0,   0,   0,   0,\n",
              "         0,   0,   0,   0,   0,   0,   0,   0,   0,   0,   0,   0,   0,\n",
              "         0,   0,   0,   0,   0,   0,   0,   0,   0,   0,   0,   0,   0,\n",
              "         0,   0,   0,   0,   0,   0,   0,   0,   0,   0,   0,   0,   0,\n",
              "         0,   0,   0,   0,   0,   0,   0,   0,   0,   0,   0,   0,   0,\n",
              "         0,   0,   0,   0,   0,   0,   0,   0,   0,   0,   0,   0,   0,\n",
              "         0,   0,   0,   0,   0,   0,   0,   0,   0,   0,   0,   0,   0,\n",
              "         0,   0,   0,   0,   0,   0,   0,   0,   0,   0,   0,   0,   0,\n",
              "         0,   0,   0,   0,   0,   0,   0,   0,   0,   0,   0,   0,   0,\n",
              "         0,   0,   0,   0,   0,   0,   0,   0,   0,   0,   0,   0,   0,\n",
              "         0,   0,   0,   0,   0,   0,   0,   0,   0,   0,   0,   0,   0,\n",
              "         0,   0,   0,   0,   0,   0,   0,   0,   0,   0,   0,   0,   0,\n",
              "         0,   0,   0,   0,   0,   0,   0,   0,   0,   0,   0,   0],\n",
              "      dtype=int32)"
            ]
          },
          "metadata": {},
          "execution_count": 57
        }
      ]
    },
    {
      "cell_type": "code",
      "source": [
        "Y_train[0]"
      ],
      "metadata": {
        "colab": {
          "base_uri": "https://localhost:8080/"
        },
        "id": "aD31NIhIvrHk",
        "outputId": "7d373321-1f15-4b31-b39c-e3188436b74d"
      },
      "execution_count": null,
      "outputs": [
        {
          "output_type": "execute_result",
          "data": {
            "text/plain": [
              "array([ 6,  6,  6,  3,  4,  5,  5,  5,  6,  6,  7,  6,  6,  6,  6,  0,  1,\n",
              "        6,  6,  6,  6,  3, 10, 10,  4,  5,  5,  5,  6,  6,  6,  6,  6,  6,\n",
              "        6,  6,  6,  6,  6,  6,  6,  6,  6,  6,  6,  6,  6,  6,  6,  6,  6,\n",
              "        6,  6,  6,  6,  6,  6,  6,  6,  6,  6,  6,  6,  6,  6,  6,  6,  6,\n",
              "        6,  6,  6,  6,  6,  6,  6,  6,  6,  6,  6,  6,  6,  6,  6,  6,  6,\n",
              "        6,  6,  6,  6,  6,  6,  6,  6,  6,  6,  6,  6,  6,  6,  6,  6,  6,\n",
              "        6,  6,  6,  6,  6,  6,  6,  6,  6,  6,  6,  6,  6,  6,  6,  6,  6,\n",
              "        6,  6,  6,  6,  6,  6,  6,  6,  6,  6,  6,  6,  6,  6,  6,  6,  6,\n",
              "        6,  6,  6,  6,  6,  6,  6,  6,  6,  6,  6,  6,  6,  6,  6,  6,  6,\n",
              "        6,  6,  6,  6,  6,  6,  6,  6,  6,  6,  6,  6,  6,  6,  6,  6,  6,\n",
              "        6,  6,  6,  6,  6,  6,  6,  6,  6,  6,  6,  6,  6,  6,  6,  6,  6,\n",
              "        6,  6,  6,  6,  6,  6,  6,  6,  6,  6,  6,  6,  6,  6,  6,  6,  6,\n",
              "        6,  6,  6,  6,  6,  6,  6,  6,  6,  6,  6,  6,  6,  6,  6,  6,  6,\n",
              "        6,  6,  6,  6,  6,  6,  6,  6,  6,  6,  6,  6,  6,  6,  6,  6,  6,\n",
              "        6,  6,  6,  6,  6,  6,  6,  6,  6,  6,  6,  6,  6,  6,  6,  6,  6,\n",
              "        6,  6,  6,  6,  6,  6,  6,  6,  6,  6,  6,  6,  6,  6,  6,  6,  6],\n",
              "      dtype=int32)"
            ]
          },
          "metadata": {},
          "execution_count": 58
        }
      ]
    },
    {
      "cell_type": "code",
      "source": [
        "id2word[1]"
      ],
      "metadata": {
        "colab": {
          "base_uri": "https://localhost:8080/",
          "height": 35
        },
        "id": "kscZkzBNeJWm",
        "outputId": "2e0d4191-390b-4989-bc7f-cd3d08b08bda"
      },
      "execution_count": null,
      "outputs": [
        {
          "output_type": "execute_result",
          "data": {
            "text/plain": [
              "'tablet'"
            ],
            "application/vnd.google.colaboratory.intrinsic+json": {
              "type": "string"
            }
          },
          "metadata": {},
          "execution_count": 59
        }
      ]
    },
    {
      "cell_type": "code",
      "source": [
        "train_dataset = tf.data.Dataset.from_tensor_slices((X_train, Y_train))\n",
        "val_dataset = tf.data.Dataset.from_tensor_slices((X_val, Y_val))\n",
        "test_dataset = tf.data.Dataset.from_tensor_slices((X_test, Y_test))"
      ],
      "metadata": {
        "id": "Oa7Id3lveQWc"
      },
      "execution_count": null,
      "outputs": []
    },
    {
      "cell_type": "code",
      "source": [
        "BATCH_SIZE = 32\n",
        "SHUFFLE_BUFFER_SIZE = 32\n",
        "\n",
        "train_dataset = train_dataset.shuffle(SHUFFLE_BUFFER_SIZE).batch(BATCH_SIZE)\n",
        "val_dataset = val_dataset.batch(BATCH_SIZE)\n",
        "test_dataset = test_dataset.batch(BATCH_SIZE)"
      ],
      "metadata": {
        "id": "DI92Me8blmk3"
      },
      "execution_count": null,
      "outputs": []
    },
    {
      "cell_type": "code",
      "source": [
        "maxlen = max(len(seq) for seq in sequences)\n",
        "max_words = len(word_index)\n",
        "num_tags = len(tags)\n",
        "\n",
        "model = tf.keras.models.Sequential([\n",
        "    tf.keras.layers.Embedding(input_dim=max_words, output_dim=200, input_length=maxlen),\n",
        "    tf.keras.layers.Bidirectional(tf.keras.layers.LSTM(units=50, activation='tanh', return_sequences=True)),\n",
        "    tf.keras.layers.Bidirectional(tf.keras.layers.LSTM(units=50, activation='tanh', return_sequences=True)),\n",
        "    tf.keras.layers.TimeDistributed(tf.keras.layers.Dense(units=num_tags, activation='softmax'))\n",
        "])"
      ],
      "metadata": {
        "id": "RhOhKeTilzR4"
      },
      "execution_count": null,
      "outputs": []
    },
    {
      "cell_type": "code",
      "source": [
        "model.summary()"
      ],
      "metadata": {
        "colab": {
          "base_uri": "https://localhost:8080/"
        },
        "id": "ryJf1imWmJy7",
        "outputId": "05a17049-0e79-4262-82af-db5820b933be"
      },
      "execution_count": null,
      "outputs": [
        {
          "output_type": "stream",
          "name": "stdout",
          "text": [
            "Model: \"sequential_2\"\n",
            "_________________________________________________________________\n",
            " Layer (type)                Output Shape              Param #   \n",
            "=================================================================\n",
            " embedding_2 (Embedding)     (None, 272, 200)          695600    \n",
            "                                                                 \n",
            " bidirectional_4 (Bidirecti  (None, 272, 100)          100400    \n",
            " onal)                                                           \n",
            "                                                                 \n",
            " bidirectional_5 (Bidirecti  (None, 272, 100)          60400     \n",
            " onal)                                                           \n",
            "                                                                 \n",
            " time_distributed_2 (TimeDi  (None, 272, 11)           1111      \n",
            " stributed)                                                      \n",
            "                                                                 \n",
            "=================================================================\n",
            "Total params: 857511 (3.27 MB)\n",
            "Trainable params: 857511 (3.27 MB)\n",
            "Non-trainable params: 0 (0.00 Byte)\n",
            "_________________________________________________________________\n"
          ]
        }
      ]
    },
    {
      "cell_type": "code",
      "source": [
        "model.compile(\n",
        "    optimizer='adam',\n",
        "    loss='sparse_categorical_crossentropy',\n",
        "    metrics=['accuracy']\n",
        ")"
      ],
      "metadata": {
        "id": "WSbTfHBFmOQi"
      },
      "execution_count": null,
      "outputs": []
    },
    {
      "cell_type": "code",
      "source": [
        "print(\"X_train shape:\", X_train.shape)\n",
        "print(\"Y_train shape:\", Y_train.shape)"
      ],
      "metadata": {
        "colab": {
          "base_uri": "https://localhost:8080/"
        },
        "id": "gzBW1DXDs1vI",
        "outputId": "5772f2b5-e838-4865-a07c-02e5ee5bb3e4"
      },
      "execution_count": null,
      "outputs": [
        {
          "output_type": "stream",
          "name": "stdout",
          "text": [
            "X_train shape: (187, 272)\n",
            "Y_train shape: (187, 272)\n"
          ]
        }
      ]
    },
    {
      "cell_type": "code",
      "source": [
        "history = model.fit(\n",
        "    train_dataset,\n",
        "    validation_data=val_dataset,\n",
        "    epochs=10\n",
        ")"
      ],
      "metadata": {
        "colab": {
          "base_uri": "https://localhost:8080/"
        },
        "id": "uc4pSVaXmYBh",
        "outputId": "ff0d8768-ab0c-42b7-8ca9-25e7c01683eb"
      },
      "execution_count": null,
      "outputs": [
        {
          "output_type": "stream",
          "name": "stdout",
          "text": [
            "Epoch 1/10\n",
            "6/6 [==============================] - 1s 278ms/step - loss: 0.1898 - accuracy: 0.9419 - val_loss: 0.2223 - val_accuracy: 0.9364\n",
            "Epoch 2/10\n",
            "6/6 [==============================] - 1s 227ms/step - loss: 0.1856 - accuracy: 0.9430 - val_loss: 0.2204 - val_accuracy: 0.9362\n",
            "Epoch 3/10\n",
            "6/6 [==============================] - 2s 328ms/step - loss: 0.1810 - accuracy: 0.9441 - val_loss: 0.2178 - val_accuracy: 0.9366\n",
            "Epoch 4/10\n",
            "6/6 [==============================] - 1s 193ms/step - loss: 0.1764 - accuracy: 0.9451 - val_loss: 0.2146 - val_accuracy: 0.9379\n",
            "Epoch 5/10\n",
            "6/6 [==============================] - 1s 191ms/step - loss: 0.1718 - accuracy: 0.9460 - val_loss: 0.2117 - val_accuracy: 0.9388\n",
            "Epoch 6/10\n",
            "6/6 [==============================] - 1s 212ms/step - loss: 0.1673 - accuracy: 0.9470 - val_loss: 0.2096 - val_accuracy: 0.9387\n",
            "Epoch 7/10\n",
            "6/6 [==============================] - 0s 45ms/step - loss: 0.1631 - accuracy: 0.9477 - val_loss: 0.2076 - val_accuracy: 0.9389\n",
            "Epoch 8/10\n",
            "6/6 [==============================] - 0s 79ms/step - loss: 0.1590 - accuracy: 0.9484 - val_loss: 0.2056 - val_accuracy: 0.9388\n",
            "Epoch 9/10\n",
            "6/6 [==============================] - 1s 148ms/step - loss: 0.1552 - accuracy: 0.9491 - val_loss: 0.2041 - val_accuracy: 0.9392\n",
            "Epoch 10/10\n",
            "6/6 [==============================] - 1s 119ms/step - loss: 0.1516 - accuracy: 0.9496 - val_loss: 0.2022 - val_accuracy: 0.9398\n"
          ]
        }
      ]
    },
    {
      "cell_type": "code",
      "source": [
        "model.evaluate(test_dataset)"
      ],
      "metadata": {
        "colab": {
          "base_uri": "https://localhost:8080/"
        },
        "id": "Y6-2OmenwXYc",
        "outputId": "f70e9c80-1d88-4a6e-c119-cc991d281e42"
      },
      "execution_count": null,
      "outputs": [
        {
          "output_type": "stream",
          "name": "stdout",
          "text": [
            "2/2 [==============================] - 0s 27ms/step - loss: 0.1736 - accuracy: 0.9450\n"
          ]
        },
        {
          "output_type": "execute_result",
          "data": {
            "text/plain": [
              "[0.17359615862369537, 0.945036768913269]"
            ]
          },
          "metadata": {},
          "execution_count": 72
        }
      ]
    },
    {
      "cell_type": "code",
      "source": [
        "import matplotlib.pyplot as plt\n",
        "\n",
        "epochs = range(1, len(history.history['accuracy']) + 1)\n",
        "\n",
        "plt.figure(figsize=(12, 4))\n",
        "\n",
        "plt.subplot(1, 2, 1)\n",
        "plt.plot(epochs, history.history['accuracy'], label=\"Training Accuracy\", color='darkblue')\n",
        "plt.plot(epochs, history.history['val_accuracy'], label=\"Validation Accuracy\", color='darkgreen')\n",
        "plt.fill_between(epochs, history.history['accuracy'], history.history['val_accuracy'], color='crimson', alpha=0.3)\n",
        "plt.grid(alpha=0.3)\n",
        "plt.title('Training vs Validation Accuracy')\n",
        "plt.xlabel('Epochs')\n",
        "plt.ylabel('Accuracy')\n",
        "plt.legend()\n",
        "\n",
        "plt.subplot(1, 2, 2)\n",
        "plt.plot(epochs, history.history['loss'], label=\"Training Loss\", color='darkblue')\n",
        "plt.plot(epochs, history.history['val_loss'], label=\"Validation Loss\", color='darkgreen')\n",
        "plt.fill_between(epochs, history.history['loss'], history.history['val_loss'], color='crimson', alpha=0.3)\n",
        "plt.grid(alpha=0.3)\n",
        "plt.title('Training vs Validation Loss')\n",
        "plt.xlabel('Epochs')\n",
        "plt.ylabel('Loss')\n",
        "plt.legend()\n",
        "\n",
        "plt.tight_layout()\n",
        "plt.show()"
      ],
      "metadata": {
        "colab": {
          "base_uri": "https://localhost:8080/",
          "height": 326
        },
        "id": "FeuTYvMQwpDK",
        "outputId": "3d65eaeb-3ad9-4f34-d8b7-7070c3c563e3"
      },
      "execution_count": null,
      "outputs": [
        {
          "output_type": "display_data",
          "data": {
            "text/plain": [
              "<Figure size 1200x400 with 2 Axes>"
            ],
            "image/png": "[encoded data removed]"
          },
          "metadata": {}
        }
      ]
    },
    {
      "cell_type": "code",
      "source": [
        "model.save('ner.h5')"
      ],
      "metadata": {
        "id": "4-ajXq_4yd4c"
      },
      "execution_count": null,
      "outputs": []
    },
    {
      "cell_type": "code",
      "source": [
        "def make_prediction(model, preprocessed_text, id2word, id2tag):\n",
        "  preprocessed_text = preprocessed_text.reshape((1, 272))\n",
        "\n",
        "  text = preprocessed_text[preprocessed_text > 0]\n",
        "  word_list = []\n",
        "  for word in list(text):\n",
        "    word_list.append(id2word[word])\n",
        "  original_text = ' '.join(word_list)\n",
        "\n",
        "  len_original_text = len(word_list)\n",
        "\n",
        "  prediction = model.predict(preprocessed_text)\n",
        "  prediction = np.argmax(prediction[0], axis=1)\n",
        "\n",
        "  prediction = list(prediction)[ : len_original_text]\n",
        "\n",
        "  pred_tag_list = []\n",
        "  for tag_id in prediction:\n",
        "    pred_tag_list.append(id2tag[tag_id])\n",
        "\n",
        "  return original_text, pred_tag_list"
      ],
      "metadata": {
        "id": "Utx9MxEN_SsC"
      },
      "execution_count": null,
      "outputs": []
    },
    {
      "cell_type": "code",
      "source": [
        "print(\"Original shape of preprocessed_text:\", X_test[5].shape)\n",
        "print(\"Size of preprocessed_text:\", X_test[5].size)"
      ],
      "metadata": {
        "colab": {
          "base_uri": "https://localhost:8080/"
        },
        "id": "88Tr03S07wRY",
        "outputId": "d74bc394-6043-4a62-8ff3-689eb240be17"
      },
      "execution_count": null,
      "outputs": [
        {
          "output_type": "stream",
          "name": "stdout",
          "text": [
            "Original shape of preprocessed_text: (272,)\n",
            "Size of preprocessed_text: 272\n"
          ]
        }
      ]
    },
    {
      "cell_type": "code",
      "source": [
        "original_text, pred_tag_list = make_prediction(model=model, preprocessed_text=X_test[20], id2word=id2word, id2tag=id2tag)"
      ],
      "metadata": {
        "colab": {
          "base_uri": "https://localhost:8080/"
        },
        "id": "n-NNjO59z-Wr",
        "outputId": "97c908e6-6e5c-4a2d-ed24-f9ca4f11b87d"
      },
      "execution_count": null,
      "outputs": [
        {
          "output_type": "stream",
          "name": "stdout",
          "text": [
            "1/1 [==============================] - 0s 32ms/step\n"
          ]
        }
      ]
    },
    {
      "cell_type": "code",
      "source": [
        "print(original_text)"
      ],
      "metadata": {
        "colab": {
          "base_uri": "https://localhost:8080/"
        },
        "id": "hnms7vhw0TBg",
        "outputId": "d7c1a9be-7647-47ec-d1d0-1ddafd07edb6"
      },
      "execution_count": null,
      "outputs": [
        {
          "output_type": "stream",
          "name": "stdout",
          "text": [
            "procold fludbatuk paracetamol dextromethorphon hbr phenylephrine hcl s e meringankan gejala flu disertai batuk tidak berdahak\n"
          ]
        }
      ]
    },
    {
      "cell_type": "code",
      "source": [
        "print(pred_tag_list)"
      ],
      "metadata": {
        "colab": {
          "base_uri": "https://localhost:8080/"
        },
        "id": "qpWSPLP20VT1",
        "outputId": "91afc8c3-910e-4cd4-f640-7bcffa2a46d2"
      },
      "execution_count": null,
      "outputs": [
        {
          "output_type": "stream",
          "name": "stdout",
          "text": [
            "['I-ING', 'I-ING', 'I-ING', 'I-ING', 'I-ING', 'I-ING', 'I-DES', 'I-DES', 'I-DES', 'I-DES', 'I-DES', 'I-DES', 'I-DES', 'I-DES', 'I-DES', 'I-DES']\n"
          ]
        }
      ]
    }
  ]
}